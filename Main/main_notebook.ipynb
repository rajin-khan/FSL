{
 "cells": [
  {
   "cell_type": "code",
   "execution_count": 1,
   "metadata": {},
   "outputs": [
    {
     "name": "stdout",
     "output_type": "stream",
     "text": [
      "Cloning into 'labelImg'...\n",
      "remote: Enumerating objects: 2097, done.\u001b[K\n",
      "remote: Counting objects: 100% (4/4), done.\u001b[K\n",
      "remote: Compressing objects: 100% (4/4), done.\u001b[K\n",
      "remote: Total 2097 (delta 0), reused 0 (delta 0), pack-reused 2093 (from 2)\u001b[K\n",
      "Receiving objects: 100% (2097/2097), 237.14 MiB | 4.56 MiB/s, done.\n",
      "Resolving deltas: 100% (1245/1245), done.\n"
     ]
    }
   ],
   "source": [
    "!git clone https://github.com/HumanSignal/labelImg"
   ]
  },
  {
   "cell_type": "markdown",
   "metadata": {},
   "source": [
    "## Augmentation done for separate sachets.\n",
    "### (Used albumenation library)"
   ]
  },
  {
   "cell_type": "markdown",
   "metadata": {},
   "source": [
    "### Augmentation for HORLICKS AHFD STD CTSL 18ML:"
   ]
  },
  {
   "cell_type": "code",
   "execution_count": 2,
   "metadata": {},
   "outputs": [
    {
     "name": "stderr",
     "output_type": "stream",
     "text": [
      "/Library/Frameworks/Python.framework/Versions/3.13/lib/python3.13/site-packages/albumentations/core/validation.py:87: UserWarning: ShiftScaleRotate is a special case of Affine transform. Please use Affine transform instead.\n",
      "  original_init(self, **validated_kwargs)\n"
     ]
    },
    {
     "name": "stdout",
     "output_type": "stream",
     "text": [
      "Saved 5 augmented images for horlicks2\n",
      "Saved 5 augmented images for horlicks3\n",
      "Saved 5 augmented images for horlicks1\n",
      "Saved 5 augmented images for horlicks4\n",
      "Saved 5 augmented images for horlicks5\n",
      "Saved 5 augmented images for horlicks6\n",
      "Augmentation complete for all images.\n"
     ]
    }
   ],
   "source": [
    "import os\n",
    "import cv2\n",
    "import glob\n",
    "import albumentations as A\n",
    "from albumentations.pytorch import ToTensorV2\n",
    "\n",
    "# Define input and output directories\n",
    "input_folder = \"/Users/rajin/Desktop/trainimages/horlicks\"  # Folder with original images\n",
    "output_folder = \"augmented_horlicks\"  # Folder to save augmented images\n",
    "os.makedirs(output_folder, exist_ok=True)\n",
    "\n",
    "# Define augmentations\n",
    "transform = A.Compose([\n",
    "    A.HorizontalFlip(p=0.5),  # 50% chance of flipping\n",
    "    A.RandomBrightnessContrast(p=0.2),  # Random brightness/contrast adjustment\n",
    "    A.GaussianBlur(p=0.1),  # Apply slight blur\n",
    "    A.ShiftScaleRotate(shift_limit=0.05, scale_limit=0.05, rotate_limit=15, p=0.5),  # Random transformations\n",
    "    A.CLAHE(p=0.2)  # Apply Contrast Limited Adaptive Histogram Equalization\n",
    "])\n",
    "\n",
    "num_variations = 5  # Number of augmented images per original image\n",
    "\n",
    "# Process all images in the folder\n",
    "image_paths = glob.glob(os.path.join(input_folder, \"*.jpg\"))  # Modify for other formats\n",
    "\n",
    "for img_path in image_paths:\n",
    "    # Read image\n",
    "    image = cv2.imread(img_path)\n",
    "    if image is None:\n",
    "        print(f\"Error loading {img_path}\")\n",
    "        continue\n",
    "\n",
    "    filename = os.path.basename(img_path).split('.')[0]  # Get filename without extension\n",
    "\n",
    "    for i in range(num_variations):  # Generate multiple variations\n",
    "        augmented = transform(image=image)[\"image\"]\n",
    "\n",
    "        # Save augmented image with index\n",
    "        save_path = os.path.join(output_folder, f\"{filename}_aug_{i}.jpg\")\n",
    "        cv2.imwrite(save_path, augmented)\n",
    "\n",
    "    print(f\"Saved {num_variations} augmented images for {filename}\")\n",
    "\n",
    "print(\"Augmentation complete for all images.\")\n"
   ]
  },
  {
   "cell_type": "markdown",
   "metadata": {},
   "source": [
    "### Augmentation for CLEAR MEN SHAMP CSM 5ML:"
   ]
  },
  {
   "cell_type": "code",
   "execution_count": 3,
   "metadata": {},
   "outputs": [
    {
     "name": "stdout",
     "output_type": "stream",
     "text": [
      "Saved 5 augmented images for clear1\n",
      "Saved 5 augmented images for clear3\n",
      "Saved 5 augmented images for clear14\n",
      "Saved 5 augmented images for clear15\n",
      "Saved 5 augmented images for clear2\n",
      "Saved 5 augmented images for clear6\n",
      "Saved 5 augmented images for clear11\n",
      "Saved 5 augmented images for clear10\n",
      "Saved 5 augmented images for clear7\n",
      "Saved 5 augmented images for clear5\n",
      "Saved 5 augmented images for clear12\n",
      "Saved 5 augmented images for clear13\n",
      "Saved 5 augmented images for clear4\n",
      "Saved 5 augmented images for clear9\n",
      "Saved 5 augmented images for clear8\n",
      "Augmentation complete for all images.\n"
     ]
    }
   ],
   "source": [
    "import os\n",
    "import cv2\n",
    "import glob\n",
    "import albumentations as A\n",
    "from albumentations.pytorch import ToTensorV2\n",
    "\n",
    "# Define input and output directories\n",
    "input_folder = \"/Users/rajin/Desktop/trainimages/clear\"  # Folder with original images\n",
    "output_folder = \"augmented_clear\"  # Folder to save augmented images\n",
    "os.makedirs(output_folder, exist_ok=True)\n",
    "\n",
    "# Define augmentations\n",
    "transform = A.Compose([\n",
    "    A.HorizontalFlip(p=0.5),  # 50% chance of flipping\n",
    "    A.RandomBrightnessContrast(p=0.2),  # Random brightness/contrast adjustment\n",
    "    A.GaussianBlur(p=0.1),  # Apply slight blur\n",
    "    A.ShiftScaleRotate(shift_limit=0.05, scale_limit=0.05, rotate_limit=15, p=0.5),  # Random transformations\n",
    "    A.CLAHE(p=0.2)  # Apply Contrast Limited Adaptive Histogram Equalization\n",
    "])\n",
    "\n",
    "num_variations = 5  # Number of augmented images per original image\n",
    "\n",
    "# Process all images in the folder\n",
    "image_paths = glob.glob(os.path.join(input_folder, \"*.jpg\"))  # Modify for other formats\n",
    "\n",
    "for img_path in image_paths:\n",
    "    # Read image\n",
    "    image = cv2.imread(img_path)\n",
    "    if image is None:\n",
    "        print(f\"Error loading {img_path}\")\n",
    "        continue\n",
    "\n",
    "    filename = os.path.basename(img_path).split('.')[0]  # Get filename without extension\n",
    "\n",
    "    for i in range(num_variations):  # Generate multiple variations\n",
    "        augmented = transform(image=image)[\"image\"]\n",
    "\n",
    "        # Save augmented image with index\n",
    "        save_path = os.path.join(output_folder, f\"{filename}_aug_{i}.jpg\")\n",
    "        cv2.imwrite(save_path, augmented)\n",
    "\n",
    "    print(f\"Saved {num_variations} augmented images for {filename}\")\n",
    "\n",
    "print(\"Augmentation complete for all images.\")\n"
   ]
  },
  {
   "cell_type": "markdown",
   "metadata": {},
   "source": [
    "### Augmentation for DOVE CNDTIONR IRP DOLCE 7ML:"
   ]
  },
  {
   "cell_type": "code",
   "execution_count": 5,
   "metadata": {},
   "outputs": [
    {
     "name": "stdout",
     "output_type": "stream",
     "text": [
      "Saved 5 augmented images for doveconditioner8\n",
      "Saved 5 augmented images for doveconditioner9\n",
      "Saved 5 augmented images for doveconditioner12\n",
      "Saved 5 augmented images for doveconditioner11\n",
      "Saved 5 augmented images for doveconditioner10\n",
      "Saved 5 augmented images for doveconditioner2\n",
      "Saved 5 augmented images for doveconditioner3\n",
      "Saved 5 augmented images for doveconditioner1\n",
      "Saved 5 augmented images for doveconditioner4\n",
      "Saved 5 augmented images for doveconditioner5\n",
      "Saved 5 augmented images for doveconditioner7\n",
      "Saved 5 augmented images for doveconditioner6\n",
      "Augmentation complete for all images.\n"
     ]
    }
   ],
   "source": [
    "import os\n",
    "import cv2\n",
    "import glob\n",
    "import albumentations as A\n",
    "from albumentations.pytorch import ToTensorV2\n",
    "\n",
    "# Define input and output directories\n",
    "input_folder = \"/Users/rajin/Desktop/trainimages/doveconditioner\"  # Folder with original images\n",
    "output_folder = \"augmented_doveconditioner\"  # Folder to save augmented images\n",
    "os.makedirs(output_folder, exist_ok=True)\n",
    "\n",
    "# Define augmentations\n",
    "transform = A.Compose([\n",
    "    A.HorizontalFlip(p=0.5),  # 50% chance of flipping\n",
    "    A.RandomBrightnessContrast(p=0.2),  # Random brightness/contrast adjustment\n",
    "    A.GaussianBlur(p=0.1),  # Apply slight blur\n",
    "    A.ShiftScaleRotate(shift_limit=0.05, scale_limit=0.05, rotate_limit=15, p=0.5),  # Random transformations\n",
    "    A.CLAHE(p=0.2)  # Apply Contrast Limited Adaptive Histogram Equalization\n",
    "])\n",
    "\n",
    "num_variations = 5  # Number of augmented images per original image\n",
    "\n",
    "# Process all images in the folder\n",
    "image_paths = glob.glob(os.path.join(input_folder, \"*.jpg\"))  # Modify for other formats\n",
    "\n",
    "for img_path in image_paths:\n",
    "    # Read image\n",
    "    image = cv2.imread(img_path)\n",
    "    if image is None:\n",
    "        print(f\"Error loading {img_path}\")\n",
    "        continue\n",
    "\n",
    "    filename = os.path.basename(img_path).split('.')[0]  # Get filename without extension\n",
    "\n",
    "    for i in range(num_variations):  # Generate multiple variations\n",
    "        augmented = transform(image=image)[\"image\"]\n",
    "\n",
    "        # Save augmented image with index\n",
    "        save_path = os.path.join(output_folder, f\"{filename}_aug_{i}.jpg\")\n",
    "        cv2.imwrite(save_path, augmented)\n",
    "\n",
    "    print(f\"Saved {num_variations} augmented images for {filename}\")\n",
    "\n",
    "print(\"Augmentation complete for all images.\")\n"
   ]
  },
  {
   "cell_type": "markdown",
   "metadata": {},
   "source": [
    "## Dataset Annotation completed with LabelImg."
   ]
  },
  {
   "cell_type": "code",
   "execution_count": 1,
   "metadata": {},
   "outputs": [
    {
     "name": "stdout",
     "output_type": "stream",
     "text": [
      "Requirement already satisfied: ultralytics in /Library/Frameworks/Python.framework/Versions/3.13/lib/python3.13/site-packages (8.3.86)\n",
      "Requirement already satisfied: opencv-python in /Library/Frameworks/Python.framework/Versions/3.13/lib/python3.13/site-packages (4.11.0.86)\n",
      "Requirement already satisfied: tqdm in /Library/Frameworks/Python.framework/Versions/3.13/lib/python3.13/site-packages (4.67.1)\n",
      "Requirement already satisfied: numpy<=2.1.1,>=1.23.0 in /Library/Frameworks/Python.framework/Versions/3.13/lib/python3.13/site-packages (from ultralytics) (2.1.1)\n",
      "Requirement already satisfied: matplotlib>=3.3.0 in /Library/Frameworks/Python.framework/Versions/3.13/lib/python3.13/site-packages (from ultralytics) (3.10.1)\n",
      "Requirement already satisfied: pillow>=7.1.2 in /Library/Frameworks/Python.framework/Versions/3.13/lib/python3.13/site-packages (from ultralytics) (11.1.0)\n",
      "Requirement already satisfied: pyyaml>=5.3.1 in /Library/Frameworks/Python.framework/Versions/3.13/lib/python3.13/site-packages (from ultralytics) (6.0.2)\n",
      "Requirement already satisfied: requests>=2.23.0 in /Library/Frameworks/Python.framework/Versions/3.13/lib/python3.13/site-packages (from ultralytics) (2.32.3)\n",
      "Requirement already satisfied: scipy>=1.4.1 in /Library/Frameworks/Python.framework/Versions/3.13/lib/python3.13/site-packages (from ultralytics) (1.15.2)\n",
      "Requirement already satisfied: torch>=1.8.0 in /Library/Frameworks/Python.framework/Versions/3.13/lib/python3.13/site-packages (from ultralytics) (2.6.0)\n",
      "Requirement already satisfied: torchvision>=0.9.0 in /Library/Frameworks/Python.framework/Versions/3.13/lib/python3.13/site-packages (from ultralytics) (0.21.0)\n",
      "Requirement already satisfied: psutil in /Library/Frameworks/Python.framework/Versions/3.13/lib/python3.13/site-packages (from ultralytics) (7.0.0)\n",
      "Requirement already satisfied: py-cpuinfo in /Library/Frameworks/Python.framework/Versions/3.13/lib/python3.13/site-packages (from ultralytics) (9.0.0)\n",
      "Requirement already satisfied: pandas>=1.1.4 in /Library/Frameworks/Python.framework/Versions/3.13/lib/python3.13/site-packages (from ultralytics) (2.2.3)\n",
      "Requirement already satisfied: seaborn>=0.11.0 in /Library/Frameworks/Python.framework/Versions/3.13/lib/python3.13/site-packages (from ultralytics) (0.13.2)\n",
      "Requirement already satisfied: ultralytics-thop>=2.0.0 in /Library/Frameworks/Python.framework/Versions/3.13/lib/python3.13/site-packages (from ultralytics) (2.0.14)\n",
      "Requirement already satisfied: contourpy>=1.0.1 in /Library/Frameworks/Python.framework/Versions/3.13/lib/python3.13/site-packages (from matplotlib>=3.3.0->ultralytics) (1.3.1)\n",
      "Requirement already satisfied: cycler>=0.10 in /Library/Frameworks/Python.framework/Versions/3.13/lib/python3.13/site-packages (from matplotlib>=3.3.0->ultralytics) (0.12.1)\n",
      "Requirement already satisfied: fonttools>=4.22.0 in /Library/Frameworks/Python.framework/Versions/3.13/lib/python3.13/site-packages (from matplotlib>=3.3.0->ultralytics) (4.56.0)\n",
      "Requirement already satisfied: kiwisolver>=1.3.1 in /Library/Frameworks/Python.framework/Versions/3.13/lib/python3.13/site-packages (from matplotlib>=3.3.0->ultralytics) (1.4.8)\n",
      "Requirement already satisfied: packaging>=20.0 in /Library/Frameworks/Python.framework/Versions/3.13/lib/python3.13/site-packages (from matplotlib>=3.3.0->ultralytics) (24.2)\n",
      "Requirement already satisfied: pyparsing>=2.3.1 in /Library/Frameworks/Python.framework/Versions/3.13/lib/python3.13/site-packages (from matplotlib>=3.3.0->ultralytics) (3.2.1)\n",
      "Requirement already satisfied: python-dateutil>=2.7 in /Library/Frameworks/Python.framework/Versions/3.13/lib/python3.13/site-packages (from matplotlib>=3.3.0->ultralytics) (2.9.0.post0)\n",
      "Requirement already satisfied: pytz>=2020.1 in /Library/Frameworks/Python.framework/Versions/3.13/lib/python3.13/site-packages (from pandas>=1.1.4->ultralytics) (2025.1)\n",
      "Requirement already satisfied: tzdata>=2022.7 in /Library/Frameworks/Python.framework/Versions/3.13/lib/python3.13/site-packages (from pandas>=1.1.4->ultralytics) (2025.1)\n",
      "Requirement already satisfied: charset-normalizer<4,>=2 in /Library/Frameworks/Python.framework/Versions/3.13/lib/python3.13/site-packages (from requests>=2.23.0->ultralytics) (3.4.1)\n",
      "Requirement already satisfied: idna<4,>=2.5 in /Library/Frameworks/Python.framework/Versions/3.13/lib/python3.13/site-packages (from requests>=2.23.0->ultralytics) (3.10)\n",
      "Requirement already satisfied: urllib3<3,>=1.21.1 in /Library/Frameworks/Python.framework/Versions/3.13/lib/python3.13/site-packages (from requests>=2.23.0->ultralytics) (2.3.0)\n",
      "Requirement already satisfied: certifi>=2017.4.17 in /Library/Frameworks/Python.framework/Versions/3.13/lib/python3.13/site-packages (from requests>=2.23.0->ultralytics) (2025.1.31)\n",
      "Requirement already satisfied: filelock in /Library/Frameworks/Python.framework/Versions/3.13/lib/python3.13/site-packages (from torch>=1.8.0->ultralytics) (3.17.0)\n",
      "Requirement already satisfied: typing-extensions>=4.10.0 in /Library/Frameworks/Python.framework/Versions/3.13/lib/python3.13/site-packages (from torch>=1.8.0->ultralytics) (4.12.2)\n",
      "Requirement already satisfied: networkx in /Library/Frameworks/Python.framework/Versions/3.13/lib/python3.13/site-packages (from torch>=1.8.0->ultralytics) (3.4.2)\n",
      "Requirement already satisfied: jinja2 in /Library/Frameworks/Python.framework/Versions/3.13/lib/python3.13/site-packages (from torch>=1.8.0->ultralytics) (3.1.6)\n",
      "Requirement already satisfied: fsspec in /Library/Frameworks/Python.framework/Versions/3.13/lib/python3.13/site-packages (from torch>=1.8.0->ultralytics) (2025.3.0)\n",
      "Requirement already satisfied: setuptools in /Library/Frameworks/Python.framework/Versions/3.13/lib/python3.13/site-packages (from torch>=1.8.0->ultralytics) (75.9.1)\n",
      "Requirement already satisfied: sympy==1.13.1 in /Library/Frameworks/Python.framework/Versions/3.13/lib/python3.13/site-packages (from torch>=1.8.0->ultralytics) (1.13.1)\n",
      "Requirement already satisfied: mpmath<1.4,>=1.1.0 in /Library/Frameworks/Python.framework/Versions/3.13/lib/python3.13/site-packages (from sympy==1.13.1->torch>=1.8.0->ultralytics) (1.3.0)\n",
      "Requirement already satisfied: six>=1.5 in /Library/Frameworks/Python.framework/Versions/3.13/lib/python3.13/site-packages (from python-dateutil>=2.7->matplotlib>=3.3.0->ultralytics) (1.17.0)\n",
      "Requirement already satisfied: MarkupSafe>=2.0 in /Library/Frameworks/Python.framework/Versions/3.13/lib/python3.13/site-packages (from jinja2->torch>=1.8.0->ultralytics) (3.0.2)\n",
      "Note: you may need to restart the kernel to use updated packages.\n"
     ]
    }
   ],
   "source": [
    "%pip install ultralytics opencv-python tqdm"
   ]
  },
  {
   "cell_type": "code",
   "execution_count": 2,
   "metadata": {},
   "outputs": [
    {
     "name": "stdout",
     "output_type": "stream",
     "text": [
      "Dataset split into train/val/test.\n"
     ]
    }
   ],
   "source": [
    "import os\n",
    "import shutil\n",
    "import random\n",
    "\n",
    "# Paths\n",
    "base_dir = \"/Users/rajin/Developer/ITNSHIP/RETAIL-ANALYSIS/Main/data\"\n",
    "image_dir = os.path.join(base_dir, \"images\")\n",
    "label_dir = os.path.join(base_dir, \"labels\")\n",
    "\n",
    "output_dir = \"dataset\"\n",
    "train_dir = os.path.join(output_dir, \"train\")\n",
    "val_dir = os.path.join(output_dir, \"val\")\n",
    "test_dir = os.path.join(output_dir, \"test\")\n",
    "\n",
    "# Create directories\n",
    "for split in [train_dir, val_dir, test_dir]:\n",
    "    os.makedirs(os.path.join(split, \"images\"), exist_ok=True)\n",
    "    os.makedirs(os.path.join(split, \"labels\"), exist_ok=True)\n",
    "\n",
    "# Get all image names\n",
    "images = [f for f in os.listdir(image_dir) if f.endswith(\".jpg\")]\n",
    "\n",
    "# Shuffle and split\n",
    "random.shuffle(images)\n",
    "train_split = int(0.7 * len(images))\n",
    "val_split = int(0.2 * len(images))\n",
    "\n",
    "train_images = images[:train_split]\n",
    "val_images = images[train_split:train_split + val_split]\n",
    "test_images = images[train_split + val_split:]\n",
    "\n",
    "# Function to copy images and labels\n",
    "def move_files(images, dest):\n",
    "    for img in images:\n",
    "        shutil.copy(os.path.join(image_dir, img), os.path.join(dest, \"images\", img))\n",
    "        label_path = os.path.join(label_dir, img.replace(\".jpg\", \".txt\"))\n",
    "        if os.path.exists(label_path):\n",
    "            shutil.copy(label_path, os.path.join(dest, \"labels\", img.replace(\".jpg\", \".txt\")))\n",
    "\n",
    "move_files(train_images, train_dir)\n",
    "move_files(val_images, val_dir)\n",
    "move_files(test_images, test_dir)\n",
    "\n",
    "print(\"Dataset split into train/val/test.\")"
   ]
  },
  {
   "cell_type": "markdown",
   "metadata": {},
   "source": [
    "## dataset.yaml set up."
   ]
  },
  {
   "cell_type": "code",
   "execution_count": 1,
   "metadata": {},
   "outputs": [
    {
     "name": "stdout",
     "output_type": "stream",
     "text": [
      "New https://pypi.org/project/ultralytics/8.3.89 available 😃 Update with 'pip install -U ultralytics'\n",
      "Ultralytics 8.3.86 🚀 Python-3.13.1 torch-2.6.0 MPS (Apple M1)\n",
      "\u001b[34m\u001b[1mengine/trainer: \u001b[0mtask=detect, mode=train, model=yolov8s.pt, data=./dataset/dataset.yaml, epochs=50, time=None, patience=100, batch=16, imgsz=640, save=True, save_period=-1, cache=False, device=mps, workers=4, project=None, name=train5, exist_ok=False, pretrained=True, optimizer=auto, verbose=True, seed=0, deterministic=True, single_cls=False, rect=False, cos_lr=False, close_mosaic=10, resume=False, amp=True, fraction=1.0, profile=False, freeze=None, multi_scale=False, overlap_mask=True, mask_ratio=4, dropout=0.0, val=True, split=val, save_json=False, save_hybrid=False, conf=None, iou=0.7, max_det=300, half=False, dnn=False, plots=True, source=None, vid_stride=1, stream_buffer=False, visualize=False, augment=False, agnostic_nms=False, classes=None, retina_masks=False, embed=None, show=False, save_frames=False, save_txt=False, save_conf=False, save_crop=False, show_labels=True, show_conf=True, show_boxes=True, line_width=None, format=torchscript, keras=False, optimize=False, int8=False, dynamic=False, simplify=True, opset=None, workspace=None, nms=False, lr0=0.01, lrf=0.01, momentum=0.937, weight_decay=0.0005, warmup_epochs=3.0, warmup_momentum=0.8, warmup_bias_lr=0.1, box=7.5, cls=0.5, dfl=1.5, pose=12.0, kobj=1.0, nbs=64, hsv_h=0.015, hsv_s=0.7, hsv_v=0.4, degrees=0.0, translate=0.1, scale=0.5, shear=0.0, perspective=0.0, flipud=0.0, fliplr=0.5, bgr=0.0, mosaic=1.0, mixup=0.0, copy_paste=0.0, copy_paste_mode=flip, auto_augment=randaugment, erasing=0.4, crop_fraction=1.0, cfg=None, tracker=botsort.yaml, save_dir=runs/detect/train5\n",
      "Overriding model.yaml nc=80 with nc=19\n",
      "\n",
      "                   from  n    params  module                                       arguments                     \n",
      "  0                  -1  1       928  ultralytics.nn.modules.conv.Conv             [3, 32, 3, 2]                 \n",
      "  1                  -1  1     18560  ultralytics.nn.modules.conv.Conv             [32, 64, 3, 2]                \n",
      "  2                  -1  1     29056  ultralytics.nn.modules.block.C2f             [64, 64, 1, True]             \n",
      "  3                  -1  1     73984  ultralytics.nn.modules.conv.Conv             [64, 128, 3, 2]               \n",
      "  4                  -1  2    197632  ultralytics.nn.modules.block.C2f             [128, 128, 2, True]           \n",
      "  5                  -1  1    295424  ultralytics.nn.modules.conv.Conv             [128, 256, 3, 2]              \n",
      "  6                  -1  2    788480  ultralytics.nn.modules.block.C2f             [256, 256, 2, True]           \n",
      "  7                  -1  1   1180672  ultralytics.nn.modules.conv.Conv             [256, 512, 3, 2]              \n",
      "  8                  -1  1   1838080  ultralytics.nn.modules.block.C2f             [512, 512, 1, True]           \n",
      "  9                  -1  1    656896  ultralytics.nn.modules.block.SPPF            [512, 512, 5]                 \n",
      " 10                  -1  1         0  torch.nn.modules.upsampling.Upsample         [None, 2, 'nearest']          \n",
      " 11             [-1, 6]  1         0  ultralytics.nn.modules.conv.Concat           [1]                           \n",
      " 12                  -1  1    591360  ultralytics.nn.modules.block.C2f             [768, 256, 1]                 \n",
      " 13                  -1  1         0  torch.nn.modules.upsampling.Upsample         [None, 2, 'nearest']          \n",
      " 14             [-1, 4]  1         0  ultralytics.nn.modules.conv.Concat           [1]                           \n",
      " 15                  -1  1    148224  ultralytics.nn.modules.block.C2f             [384, 128, 1]                 \n",
      " 16                  -1  1    147712  ultralytics.nn.modules.conv.Conv             [128, 128, 3, 2]              \n",
      " 17            [-1, 12]  1         0  ultralytics.nn.modules.conv.Concat           [1]                           \n",
      " 18                  -1  1    493056  ultralytics.nn.modules.block.C2f             [384, 256, 1]                 \n",
      " 19                  -1  1    590336  ultralytics.nn.modules.conv.Conv             [256, 256, 3, 2]              \n",
      " 20             [-1, 9]  1         0  ultralytics.nn.modules.conv.Concat           [1]                           \n",
      " 21                  -1  1   1969152  ultralytics.nn.modules.block.C2f             [768, 512, 1]                 \n",
      " 22        [15, 18, 21]  1   2123401  ultralytics.nn.modules.head.Detect           [19, [128, 256, 512]]         \n",
      "Model summary: 129 layers, 11,142,953 parameters, 11,142,937 gradients, 28.7 GFLOPs\n",
      "\n",
      "Transferred 349/355 items from pretrained weights\n",
      "Freezing layer 'model.22.dfl.conv.weight'\n"
     ]
    },
    {
     "name": "stderr",
     "output_type": "stream",
     "text": [
      "\u001b[34m\u001b[1mtrain: \u001b[0mScanning /Users/rajin/Developer/ITNSHIP/RETAIL-ANALYSIS/Main/dataset/train/labels... 105 images, 0 backgrounds, 0 corrupt: 100%|██████████| 105/105 [00:00<00:00, 2230.85it/s]"
     ]
    },
    {
     "name": "stdout",
     "output_type": "stream",
     "text": [
      "\u001b[34m\u001b[1mtrain: \u001b[0mNew cache created: /Users/rajin/Developer/ITNSHIP/RETAIL-ANALYSIS/Main/dataset/train/labels.cache\n"
     ]
    },
    {
     "name": "stderr",
     "output_type": "stream",
     "text": [
      "\n"
     ]
    },
    {
     "name": "stdout",
     "output_type": "stream",
     "text": [
      "\u001b[34m\u001b[1malbumentations: \u001b[0mBlur(p=0.01, blur_limit=(3, 7)), MedianBlur(p=0.01, blur_limit=(3, 7)), ToGray(p=0.01, num_output_channels=3, method='weighted_average'), CLAHE(p=0.01, clip_limit=(1.0, 4.0), tile_grid_size=(8, 8))\n"
     ]
    },
    {
     "name": "stderr",
     "output_type": "stream",
     "text": [
      "\u001b[34m\u001b[1mval: \u001b[0mScanning /Users/rajin/Developer/ITNSHIP/RETAIL-ANALYSIS/Main/dataset/val/labels... 30 images, 0 backgrounds, 0 corrupt: 100%|██████████| 30/30 [00:00<00:00, 2300.81it/s]"
     ]
    },
    {
     "name": "stdout",
     "output_type": "stream",
     "text": [
      "\u001b[34m\u001b[1mval: \u001b[0mNew cache created: /Users/rajin/Developer/ITNSHIP/RETAIL-ANALYSIS/Main/dataset/val/labels.cache\n"
     ]
    },
    {
     "name": "stderr",
     "output_type": "stream",
     "text": [
      "\n"
     ]
    },
    {
     "name": "stdout",
     "output_type": "stream",
     "text": [
      "Plotting labels to runs/detect/train5/labels.jpg... \n",
      "\u001b[34m\u001b[1moptimizer:\u001b[0m 'optimizer=auto' found, ignoring 'lr0=0.01' and 'momentum=0.937' and determining best 'optimizer', 'lr0' and 'momentum' automatically... \n",
      "\u001b[34m\u001b[1moptimizer:\u001b[0m AdamW(lr=0.000435, momentum=0.9) with parameter groups 57 weight(decay=0.0), 64 weight(decay=0.0005), 63 bias(decay=0.0)\n",
      "Image sizes 640 train, 640 val\n",
      "Using 0 dataloader workers\n",
      "Logging results to \u001b[1mruns/detect/train5\u001b[0m\n",
      "Starting training for 50 epochs...\n",
      "\n",
      "      Epoch    GPU_mem   box_loss   cls_loss   dfl_loss  Instances       Size\n"
     ]
    },
    {
     "name": "stderr",
     "output_type": "stream",
     "text": [
      "       1/50      10.6G      2.567      5.629      1.662        487        640: 100%|██████████| 7/7 [00:53<00:00,  7.59s/it]\n",
      "                 Class     Images  Instances      Box(P          R      mAP50  mAP50-95):   0%|          | 0/1 [00:00<?, ?it/s]"
     ]
    },
    {
     "name": "stdout",
     "output_type": "stream",
     "text": [
      "WARNING ⚠️ NMS time limit 3.500s exceeded\n"
     ]
    },
    {
     "name": "stderr",
     "output_type": "stream",
     "text": [
      "                 Class     Images  Instances      Box(P          R      mAP50  mAP50-95): 100%|██████████| 1/1 [00:25<00:00, 25.03s/it]"
     ]
    },
    {
     "name": "stdout",
     "output_type": "stream",
     "text": [
      "                   all         30       1003     0.0663       0.02      0.037     0.0235\n"
     ]
    },
    {
     "name": "stderr",
     "output_type": "stream",
     "text": [
      "\n"
     ]
    },
    {
     "name": "stdout",
     "output_type": "stream",
     "text": [
      "\n",
      "      Epoch    GPU_mem   box_loss   cls_loss   dfl_loss  Instances       Size\n"
     ]
    },
    {
     "name": "stderr",
     "output_type": "stream",
     "text": [
      "       2/50      10.4G      1.839      3.907      1.285        382        640: 100%|██████████| 7/7 [00:28<00:00,  4.08s/it]\n",
      "                 Class     Images  Instances      Box(P          R      mAP50  mAP50-95):   0%|          | 0/1 [00:00<?, ?it/s]"
     ]
    },
    {
     "name": "stdout",
     "output_type": "stream",
     "text": [
      "WARNING ⚠️ NMS time limit 3.500s exceeded\n"
     ]
    },
    {
     "name": "stderr",
     "output_type": "stream",
     "text": [
      "                 Class     Images  Instances      Box(P          R      mAP50  mAP50-95): 100%|██████████| 1/1 [00:11<00:00, 11.54s/it]"
     ]
    },
    {
     "name": "stdout",
     "output_type": "stream",
     "text": [
      "                   all         30       1003      0.574       0.25      0.309      0.177\n"
     ]
    },
    {
     "name": "stderr",
     "output_type": "stream",
     "text": [
      "\n"
     ]
    },
    {
     "name": "stdout",
     "output_type": "stream",
     "text": [
      "\n",
      "      Epoch    GPU_mem   box_loss   cls_loss   dfl_loss  Instances       Size\n"
     ]
    },
    {
     "name": "stderr",
     "output_type": "stream",
     "text": [
      "       3/50      10.4G      1.584      1.911      1.105        521        640: 100%|██████████| 7/7 [00:31<00:00,  4.48s/it]\n",
      "                 Class     Images  Instances      Box(P          R      mAP50  mAP50-95):   0%|          | 0/1 [00:00<?, ?it/s]"
     ]
    },
    {
     "name": "stdout",
     "output_type": "stream",
     "text": [
      "WARNING ⚠️ NMS time limit 3.500s exceeded\n"
     ]
    },
    {
     "name": "stderr",
     "output_type": "stream",
     "text": [
      "                 Class     Images  Instances      Box(P          R      mAP50  mAP50-95): 100%|██████████| 1/1 [00:10<00:00, 10.39s/it]"
     ]
    },
    {
     "name": "stdout",
     "output_type": "stream",
     "text": [
      "                   all         30       1003      0.541      0.375      0.394      0.231\n"
     ]
    },
    {
     "name": "stderr",
     "output_type": "stream",
     "text": [
      "\n"
     ]
    },
    {
     "name": "stdout",
     "output_type": "stream",
     "text": [
      "\n",
      "      Epoch    GPU_mem   box_loss   cls_loss   dfl_loss  Instances       Size\n"
     ]
    },
    {
     "name": "stderr",
     "output_type": "stream",
     "text": [
      "       4/50      9.72G      1.344      1.282      1.008        531        640: 100%|██████████| 7/7 [00:32<00:00,  4.71s/it]\n",
      "                 Class     Images  Instances      Box(P          R      mAP50  mAP50-95):   0%|          | 0/1 [00:00<?, ?it/s]"
     ]
    },
    {
     "name": "stdout",
     "output_type": "stream",
     "text": [
      "WARNING ⚠️ NMS time limit 3.500s exceeded\n"
     ]
    },
    {
     "name": "stderr",
     "output_type": "stream",
     "text": [
      "                 Class     Images  Instances      Box(P          R      mAP50  mAP50-95): 100%|██████████| 1/1 [00:10<00:00, 10.82s/it]"
     ]
    },
    {
     "name": "stdout",
     "output_type": "stream",
     "text": [
      "                   all         30       1003      0.603      0.411      0.425      0.272\n"
     ]
    },
    {
     "name": "stderr",
     "output_type": "stream",
     "text": [
      "\n"
     ]
    },
    {
     "name": "stdout",
     "output_type": "stream",
     "text": [
      "\n",
      "      Epoch    GPU_mem   box_loss   cls_loss   dfl_loss  Instances       Size\n"
     ]
    },
    {
     "name": "stderr",
     "output_type": "stream",
     "text": [
      "       5/50      10.7G      1.334       1.03      1.045        461        640: 100%|██████████| 7/7 [00:32<00:00,  4.63s/it]\n",
      "                 Class     Images  Instances      Box(P          R      mAP50  mAP50-95):   0%|          | 0/1 [00:00<?, ?it/s]"
     ]
    },
    {
     "name": "stdout",
     "output_type": "stream",
     "text": [
      "WARNING ⚠️ NMS time limit 3.500s exceeded\n"
     ]
    },
    {
     "name": "stderr",
     "output_type": "stream",
     "text": [
      "                 Class     Images  Instances      Box(P          R      mAP50  mAP50-95): 100%|██████████| 1/1 [00:10<00:00, 10.19s/it]"
     ]
    },
    {
     "name": "stdout",
     "output_type": "stream",
     "text": [
      "                   all         30       1003      0.814      0.472      0.523      0.344\n"
     ]
    },
    {
     "name": "stderr",
     "output_type": "stream",
     "text": [
      "\n"
     ]
    },
    {
     "name": "stdout",
     "output_type": "stream",
     "text": [
      "\n",
      "      Epoch    GPU_mem   box_loss   cls_loss   dfl_loss  Instances       Size\n"
     ]
    },
    {
     "name": "stderr",
     "output_type": "stream",
     "text": [
      "       6/50      9.66G      1.261     0.8839      1.021        555        640: 100%|██████████| 7/7 [00:30<00:00,  4.38s/it]\n",
      "                 Class     Images  Instances      Box(P          R      mAP50  mAP50-95):   0%|          | 0/1 [00:00<?, ?it/s]"
     ]
    },
    {
     "name": "stdout",
     "output_type": "stream",
     "text": [
      "WARNING ⚠️ NMS time limit 3.500s exceeded\n"
     ]
    },
    {
     "name": "stderr",
     "output_type": "stream",
     "text": [
      "                 Class     Images  Instances      Box(P          R      mAP50  mAP50-95): 100%|██████████| 1/1 [00:12<00:00, 12.90s/it]"
     ]
    },
    {
     "name": "stdout",
     "output_type": "stream",
     "text": [
      "                   all         30       1003      0.817       0.49      0.597      0.403\n"
     ]
    },
    {
     "name": "stderr",
     "output_type": "stream",
     "text": [
      "\n"
     ]
    },
    {
     "name": "stdout",
     "output_type": "stream",
     "text": [
      "\n",
      "      Epoch    GPU_mem   box_loss   cls_loss   dfl_loss  Instances       Size\n"
     ]
    },
    {
     "name": "stderr",
     "output_type": "stream",
     "text": [
      "       7/50      10.5G      1.188     0.7855      0.983        626        640: 100%|██████████| 7/7 [00:47<00:00,  6.79s/it]\n",
      "                 Class     Images  Instances      Box(P          R      mAP50  mAP50-95):   0%|          | 0/1 [00:00<?, ?it/s]"
     ]
    },
    {
     "name": "stdout",
     "output_type": "stream",
     "text": [
      "WARNING ⚠️ NMS time limit 3.500s exceeded\n"
     ]
    },
    {
     "name": "stderr",
     "output_type": "stream",
     "text": [
      "                 Class     Images  Instances      Box(P          R      mAP50  mAP50-95): 100%|██████████| 1/1 [00:11<00:00, 11.63s/it]"
     ]
    },
    {
     "name": "stdout",
     "output_type": "stream",
     "text": [
      "                   all         30       1003      0.892      0.535      0.651      0.455\n"
     ]
    },
    {
     "name": "stderr",
     "output_type": "stream",
     "text": [
      "\n"
     ]
    },
    {
     "name": "stdout",
     "output_type": "stream",
     "text": [
      "\n",
      "      Epoch    GPU_mem   box_loss   cls_loss   dfl_loss  Instances       Size\n"
     ]
    },
    {
     "name": "stderr",
     "output_type": "stream",
     "text": [
      "       8/50      9.55G      1.176     0.7198      0.958        465        640: 100%|██████████| 7/7 [00:39<00:00,  5.69s/it]\n",
      "                 Class     Images  Instances      Box(P          R      mAP50  mAP50-95):   0%|          | 0/1 [00:00<?, ?it/s]"
     ]
    },
    {
     "name": "stdout",
     "output_type": "stream",
     "text": [
      "WARNING ⚠️ NMS time limit 3.500s exceeded\n"
     ]
    },
    {
     "name": "stderr",
     "output_type": "stream",
     "text": [
      "                 Class     Images  Instances      Box(P          R      mAP50  mAP50-95): 100%|██████████| 1/1 [00:18<00:00, 18.60s/it]"
     ]
    },
    {
     "name": "stdout",
     "output_type": "stream",
     "text": [
      "                   all         30       1003      0.896       0.34      0.488      0.356\n"
     ]
    },
    {
     "name": "stderr",
     "output_type": "stream",
     "text": [
      "\n"
     ]
    },
    {
     "name": "stdout",
     "output_type": "stream",
     "text": [
      "\n",
      "      Epoch    GPU_mem   box_loss   cls_loss   dfl_loss  Instances       Size\n"
     ]
    },
    {
     "name": "stderr",
     "output_type": "stream",
     "text": [
      "       9/50      10.7G      1.143      0.719     0.9474        392        640: 100%|██████████| 7/7 [00:55<00:00,  7.98s/it]\n",
      "                 Class     Images  Instances      Box(P          R      mAP50  mAP50-95):   0%|          | 0/1 [00:00<?, ?it/s]"
     ]
    },
    {
     "name": "stdout",
     "output_type": "stream",
     "text": [
      "WARNING ⚠️ NMS time limit 3.500s exceeded\n"
     ]
    },
    {
     "name": "stderr",
     "output_type": "stream",
     "text": [
      "                 Class     Images  Instances      Box(P          R      mAP50  mAP50-95): 100%|██████████| 1/1 [00:27<00:00, 27.77s/it]"
     ]
    },
    {
     "name": "stdout",
     "output_type": "stream",
     "text": [
      "                   all         30       1003      0.913       0.35      0.486      0.356\n"
     ]
    },
    {
     "name": "stderr",
     "output_type": "stream",
     "text": [
      "\n"
     ]
    },
    {
     "name": "stdout",
     "output_type": "stream",
     "text": [
      "\n",
      "      Epoch    GPU_mem   box_loss   cls_loss   dfl_loss  Instances       Size\n"
     ]
    },
    {
     "name": "stderr",
     "output_type": "stream",
     "text": [
      "      10/50      9.62G      1.151     0.6964     0.9814        396        640: 100%|██████████| 7/7 [00:45<00:00,  6.55s/it]\n",
      "                 Class     Images  Instances      Box(P          R      mAP50  mAP50-95):   0%|          | 0/1 [00:00<?, ?it/s]"
     ]
    },
    {
     "name": "stdout",
     "output_type": "stream",
     "text": [
      "WARNING ⚠️ NMS time limit 3.500s exceeded\n"
     ]
    },
    {
     "name": "stderr",
     "output_type": "stream",
     "text": [
      "                 Class     Images  Instances      Box(P          R      mAP50  mAP50-95): 100%|██████████| 1/1 [00:11<00:00, 11.88s/it]"
     ]
    },
    {
     "name": "stdout",
     "output_type": "stream",
     "text": [
      "                   all         30       1003      0.888      0.349      0.496      0.367\n"
     ]
    },
    {
     "name": "stderr",
     "output_type": "stream",
     "text": [
      "\n"
     ]
    },
    {
     "name": "stdout",
     "output_type": "stream",
     "text": [
      "\n",
      "      Epoch    GPU_mem   box_loss   cls_loss   dfl_loss  Instances       Size\n"
     ]
    },
    {
     "name": "stderr",
     "output_type": "stream",
     "text": [
      "      11/50      9.63G      1.156     0.6993     0.9422        554        640: 100%|██████████| 7/7 [00:43<00:00,  6.24s/it]\n",
      "                 Class     Images  Instances      Box(P          R      mAP50  mAP50-95):   0%|          | 0/1 [00:00<?, ?it/s]"
     ]
    },
    {
     "name": "stdout",
     "output_type": "stream",
     "text": [
      "WARNING ⚠️ NMS time limit 3.500s exceeded\n"
     ]
    },
    {
     "name": "stderr",
     "output_type": "stream",
     "text": [
      "                 Class     Images  Instances      Box(P          R      mAP50  mAP50-95): 100%|██████████| 1/1 [00:14<00:00, 14.14s/it]"
     ]
    },
    {
     "name": "stdout",
     "output_type": "stream",
     "text": [
      "                   all         30       1003      0.895      0.391      0.513      0.361\n"
     ]
    },
    {
     "name": "stderr",
     "output_type": "stream",
     "text": [
      "\n"
     ]
    },
    {
     "name": "stdout",
     "output_type": "stream",
     "text": [
      "\n",
      "      Epoch    GPU_mem   box_loss   cls_loss   dfl_loss  Instances       Size\n"
     ]
    },
    {
     "name": "stderr",
     "output_type": "stream",
     "text": [
      "      12/50      10.6G       1.12     0.6607     0.9444        271        640: 100%|██████████| 7/7 [00:56<00:00,  8.01s/it]\n",
      "                 Class     Images  Instances      Box(P          R      mAP50  mAP50-95):   0%|          | 0/1 [00:00<?, ?it/s]"
     ]
    },
    {
     "name": "stdout",
     "output_type": "stream",
     "text": [
      "WARNING ⚠️ NMS time limit 3.500s exceeded\n"
     ]
    },
    {
     "name": "stderr",
     "output_type": "stream",
     "text": [
      "                 Class     Images  Instances      Box(P          R      mAP50  mAP50-95): 100%|██████████| 1/1 [00:21<00:00, 21.09s/it]"
     ]
    },
    {
     "name": "stdout",
     "output_type": "stream",
     "text": [
      "                   all         30       1003      0.934       0.37      0.458      0.334\n"
     ]
    },
    {
     "name": "stderr",
     "output_type": "stream",
     "text": [
      "\n"
     ]
    },
    {
     "name": "stdout",
     "output_type": "stream",
     "text": [
      "\n",
      "      Epoch    GPU_mem   box_loss   cls_loss   dfl_loss  Instances       Size\n"
     ]
    },
    {
     "name": "stderr",
     "output_type": "stream",
     "text": [
      "      13/50      11.8G      1.088      0.624     0.9524        432        640: 100%|██████████| 7/7 [00:43<00:00,  6.26s/it]\n",
      "                 Class     Images  Instances      Box(P          R      mAP50  mAP50-95):   0%|          | 0/1 [00:00<?, ?it/s]"
     ]
    },
    {
     "name": "stdout",
     "output_type": "stream",
     "text": [
      "WARNING ⚠️ NMS time limit 3.500s exceeded\n"
     ]
    },
    {
     "name": "stderr",
     "output_type": "stream",
     "text": [
      "                 Class     Images  Instances      Box(P          R      mAP50  mAP50-95): 100%|██████████| 1/1 [00:17<00:00, 17.04s/it]"
     ]
    },
    {
     "name": "stdout",
     "output_type": "stream",
     "text": [
      "                   all         30       1003      0.912       0.37       0.45       0.33\n"
     ]
    },
    {
     "name": "stderr",
     "output_type": "stream",
     "text": [
      "\n"
     ]
    },
    {
     "name": "stdout",
     "output_type": "stream",
     "text": [
      "\n",
      "      Epoch    GPU_mem   box_loss   cls_loss   dfl_loss  Instances       Size\n"
     ]
    },
    {
     "name": "stderr",
     "output_type": "stream",
     "text": [
      "      14/50      9.83G      1.108     0.6382     0.9525        560        640: 100%|██████████| 7/7 [00:37<00:00,  5.34s/it]\n",
      "                 Class     Images  Instances      Box(P          R      mAP50  mAP50-95):   0%|          | 0/1 [00:00<?, ?it/s]"
     ]
    },
    {
     "name": "stdout",
     "output_type": "stream",
     "text": [
      "WARNING ⚠️ NMS time limit 3.500s exceeded\n"
     ]
    },
    {
     "name": "stderr",
     "output_type": "stream",
     "text": [
      "                 Class     Images  Instances      Box(P          R      mAP50  mAP50-95): 100%|██████████| 1/1 [00:10<00:00, 10.73s/it]"
     ]
    },
    {
     "name": "stdout",
     "output_type": "stream",
     "text": [
      "                   all         30       1003      0.971       0.37      0.438      0.323\n"
     ]
    },
    {
     "name": "stderr",
     "output_type": "stream",
     "text": [
      "\n"
     ]
    },
    {
     "name": "stdout",
     "output_type": "stream",
     "text": [
      "\n",
      "      Epoch    GPU_mem   box_loss   cls_loss   dfl_loss  Instances       Size\n"
     ]
    },
    {
     "name": "stderr",
     "output_type": "stream",
     "text": [
      "      15/50      9.69G      1.097     0.5911     0.9223        433        640: 100%|██████████| 7/7 [00:39<00:00,  5.64s/it]\n",
      "                 Class     Images  Instances      Box(P          R      mAP50  mAP50-95):   0%|          | 0/1 [00:00<?, ?it/s]"
     ]
    },
    {
     "name": "stdout",
     "output_type": "stream",
     "text": [
      "WARNING ⚠️ NMS time limit 3.500s exceeded\n"
     ]
    },
    {
     "name": "stderr",
     "output_type": "stream",
     "text": [
      "                 Class     Images  Instances      Box(P          R      mAP50  mAP50-95): 100%|██████████| 1/1 [00:14<00:00, 14.04s/it]"
     ]
    },
    {
     "name": "stdout",
     "output_type": "stream",
     "text": [
      "                   all         30       1003      0.956      0.283      0.368      0.274\n"
     ]
    },
    {
     "name": "stderr",
     "output_type": "stream",
     "text": [
      "\n"
     ]
    },
    {
     "name": "stdout",
     "output_type": "stream",
     "text": [
      "\n",
      "      Epoch    GPU_mem   box_loss   cls_loss   dfl_loss  Instances       Size\n"
     ]
    },
    {
     "name": "stderr",
     "output_type": "stream",
     "text": [
      "      16/50      9.73G      1.105     0.6274     0.9364        448        640: 100%|██████████| 7/7 [00:40<00:00,  5.84s/it]\n",
      "                 Class     Images  Instances      Box(P          R      mAP50  mAP50-95):   0%|          | 0/1 [00:00<?, ?it/s]"
     ]
    },
    {
     "name": "stdout",
     "output_type": "stream",
     "text": [
      "WARNING ⚠️ NMS time limit 3.500s exceeded\n"
     ]
    },
    {
     "name": "stderr",
     "output_type": "stream",
     "text": [
      "                 Class     Images  Instances      Box(P          R      mAP50  mAP50-95): 100%|██████████| 1/1 [00:12<00:00, 12.69s/it]"
     ]
    },
    {
     "name": "stdout",
     "output_type": "stream",
     "text": [
      "                   all         30       1003      0.972      0.282      0.359      0.268\n"
     ]
    },
    {
     "name": "stderr",
     "output_type": "stream",
     "text": [
      "\n"
     ]
    },
    {
     "name": "stdout",
     "output_type": "stream",
     "text": [
      "\n",
      "      Epoch    GPU_mem   box_loss   cls_loss   dfl_loss  Instances       Size\n"
     ]
    },
    {
     "name": "stderr",
     "output_type": "stream",
     "text": [
      "      17/50        11G      1.085      0.593     0.9372        465        640: 100%|██████████| 7/7 [00:42<00:00,  6.14s/it]\n",
      "                 Class     Images  Instances      Box(P          R      mAP50  mAP50-95):   0%|          | 0/1 [00:00<?, ?it/s]"
     ]
    },
    {
     "name": "stdout",
     "output_type": "stream",
     "text": [
      "WARNING ⚠️ NMS time limit 3.500s exceeded\n"
     ]
    },
    {
     "name": "stderr",
     "output_type": "stream",
     "text": [
      "                 Class     Images  Instances      Box(P          R      mAP50  mAP50-95): 100%|██████████| 1/1 [00:12<00:00, 12.83s/it]"
     ]
    },
    {
     "name": "stdout",
     "output_type": "stream",
     "text": [
      "                   all         30       1003      0.956      0.371      0.425      0.311\n"
     ]
    },
    {
     "name": "stderr",
     "output_type": "stream",
     "text": [
      "\n"
     ]
    },
    {
     "name": "stdout",
     "output_type": "stream",
     "text": [
      "\n",
      "      Epoch    GPU_mem   box_loss   cls_loss   dfl_loss  Instances       Size\n"
     ]
    },
    {
     "name": "stderr",
     "output_type": "stream",
     "text": [
      "      18/50      9.75G      1.048     0.5715     0.9144        370        640: 100%|██████████| 7/7 [00:45<00:00,  6.43s/it]\n",
      "                 Class     Images  Instances      Box(P          R      mAP50  mAP50-95):   0%|          | 0/1 [00:00<?, ?it/s]"
     ]
    },
    {
     "name": "stdout",
     "output_type": "stream",
     "text": [
      "WARNING ⚠️ NMS time limit 3.500s exceeded\n"
     ]
    },
    {
     "name": "stderr",
     "output_type": "stream",
     "text": [
      "                 Class     Images  Instances      Box(P          R      mAP50  mAP50-95): 100%|██████████| 1/1 [00:12<00:00, 12.74s/it]"
     ]
    },
    {
     "name": "stdout",
     "output_type": "stream",
     "text": [
      "                   all         30       1003       0.98      0.371      0.428      0.314\n"
     ]
    },
    {
     "name": "stderr",
     "output_type": "stream",
     "text": [
      "\n"
     ]
    },
    {
     "name": "stdout",
     "output_type": "stream",
     "text": [
      "\n",
      "      Epoch    GPU_mem   box_loss   cls_loss   dfl_loss  Instances       Size\n"
     ]
    },
    {
     "name": "stderr",
     "output_type": "stream",
     "text": [
      "      19/50      10.8G      1.038     0.5657     0.9134        509        640: 100%|██████████| 7/7 [00:38<00:00,  5.53s/it]\n",
      "                 Class     Images  Instances      Box(P          R      mAP50  mAP50-95):   0%|          | 0/1 [00:00<?, ?it/s]"
     ]
    },
    {
     "name": "stdout",
     "output_type": "stream",
     "text": [
      "WARNING ⚠️ NMS time limit 3.500s exceeded\n"
     ]
    },
    {
     "name": "stderr",
     "output_type": "stream",
     "text": [
      "                 Class     Images  Instances      Box(P          R      mAP50  mAP50-95): 100%|██████████| 1/1 [00:12<00:00, 12.86s/it]"
     ]
    },
    {
     "name": "stdout",
     "output_type": "stream",
     "text": [
      "                   all         30       1003      0.971      0.281      0.357      0.264\n"
     ]
    },
    {
     "name": "stderr",
     "output_type": "stream",
     "text": [
      "\n"
     ]
    },
    {
     "name": "stdout",
     "output_type": "stream",
     "text": [
      "\n",
      "      Epoch    GPU_mem   box_loss   cls_loss   dfl_loss  Instances       Size\n"
     ]
    },
    {
     "name": "stderr",
     "output_type": "stream",
     "text": [
      "      20/50      8.79G      1.054     0.5566      0.929        650        640: 100%|██████████| 7/7 [01:08<00:00,  9.79s/it]\n",
      "                 Class     Images  Instances      Box(P          R      mAP50  mAP50-95):   0%|          | 0/1 [00:00<?, ?it/s]"
     ]
    },
    {
     "name": "stdout",
     "output_type": "stream",
     "text": [
      "WARNING ⚠️ NMS time limit 3.500s exceeded\n"
     ]
    },
    {
     "name": "stderr",
     "output_type": "stream",
     "text": [
      "                 Class     Images  Instances      Box(P          R      mAP50  mAP50-95): 100%|██████████| 1/1 [00:16<00:00, 16.29s/it]"
     ]
    },
    {
     "name": "stdout",
     "output_type": "stream",
     "text": [
      "                   all         30       1003      0.954      0.282      0.355      0.267\n"
     ]
    },
    {
     "name": "stderr",
     "output_type": "stream",
     "text": [
      "\n"
     ]
    },
    {
     "name": "stdout",
     "output_type": "stream",
     "text": [
      "\n",
      "      Epoch    GPU_mem   box_loss   cls_loss   dfl_loss  Instances       Size\n"
     ]
    },
    {
     "name": "stderr",
     "output_type": "stream",
     "text": [
      "      21/50      9.81G      1.021     0.5236     0.9162        413        640: 100%|██████████| 7/7 [00:45<00:00,  6.55s/it]\n",
      "                 Class     Images  Instances      Box(P          R      mAP50  mAP50-95):   0%|          | 0/1 [00:00<?, ?it/s]"
     ]
    },
    {
     "name": "stdout",
     "output_type": "stream",
     "text": [
      "WARNING ⚠️ NMS time limit 3.500s exceeded\n"
     ]
    },
    {
     "name": "stderr",
     "output_type": "stream",
     "text": [
      "                 Class     Images  Instances      Box(P          R      mAP50  mAP50-95): 100%|██████████| 1/1 [00:18<00:00, 18.04s/it]"
     ]
    },
    {
     "name": "stdout",
     "output_type": "stream",
     "text": [
      "                   all         30       1003      0.956      0.226      0.296      0.232\n"
     ]
    },
    {
     "name": "stderr",
     "output_type": "stream",
     "text": [
      "\n"
     ]
    },
    {
     "name": "stdout",
     "output_type": "stream",
     "text": [
      "\n",
      "      Epoch    GPU_mem   box_loss   cls_loss   dfl_loss  Instances       Size\n"
     ]
    },
    {
     "name": "stderr",
     "output_type": "stream",
     "text": [
      "      22/50      10.8G      1.105     0.5574      0.938        198        640: 100%|██████████| 7/7 [01:10<00:00, 10.02s/it]\n",
      "                 Class     Images  Instances      Box(P          R      mAP50  mAP50-95):   0%|          | 0/1 [00:00<?, ?it/s]"
     ]
    },
    {
     "name": "stdout",
     "output_type": "stream",
     "text": [
      "WARNING ⚠️ NMS time limit 3.500s exceeded\n"
     ]
    },
    {
     "name": "stderr",
     "output_type": "stream",
     "text": [
      "                 Class     Images  Instances      Box(P          R      mAP50  mAP50-95): 100%|██████████| 1/1 [00:18<00:00, 18.57s/it]"
     ]
    },
    {
     "name": "stdout",
     "output_type": "stream",
     "text": [
      "                   all         30       1003      0.983      0.209      0.275      0.215\n"
     ]
    },
    {
     "name": "stderr",
     "output_type": "stream",
     "text": [
      "\n"
     ]
    },
    {
     "name": "stdout",
     "output_type": "stream",
     "text": [
      "\n",
      "      Epoch    GPU_mem   box_loss   cls_loss   dfl_loss  Instances       Size\n"
     ]
    },
    {
     "name": "stderr",
     "output_type": "stream",
     "text": [
      "      23/50      9.97G      1.022     0.5248     0.9214        484        640: 100%|██████████| 7/7 [01:05<00:00,  9.31s/it]\n",
      "                 Class     Images  Instances      Box(P          R      mAP50  mAP50-95):   0%|          | 0/1 [00:00<?, ?it/s]"
     ]
    },
    {
     "name": "stdout",
     "output_type": "stream",
     "text": [
      "WARNING ⚠️ NMS time limit 3.500s exceeded\n"
     ]
    },
    {
     "name": "stderr",
     "output_type": "stream",
     "text": [
      "                 Class     Images  Instances      Box(P          R      mAP50  mAP50-95): 100%|██████████| 1/1 [00:19<00:00, 19.09s/it]"
     ]
    },
    {
     "name": "stdout",
     "output_type": "stream",
     "text": [
      "                   all         30       1003      0.988      0.209      0.276      0.218\n"
     ]
    },
    {
     "name": "stderr",
     "output_type": "stream",
     "text": [
      "\n"
     ]
    },
    {
     "name": "stdout",
     "output_type": "stream",
     "text": [
      "\n",
      "      Epoch    GPU_mem   box_loss   cls_loss   dfl_loss  Instances       Size\n"
     ]
    },
    {
     "name": "stderr",
     "output_type": "stream",
     "text": [
      "      24/50       9.9G      1.034     0.5171     0.9206        574        640: 100%|██████████| 7/7 [00:50<00:00,  7.23s/it]\n",
      "                 Class     Images  Instances      Box(P          R      mAP50  mAP50-95):   0%|          | 0/1 [00:00<?, ?it/s]"
     ]
    },
    {
     "name": "stdout",
     "output_type": "stream",
     "text": [
      "WARNING ⚠️ NMS time limit 3.500s exceeded\n"
     ]
    },
    {
     "name": "stderr",
     "output_type": "stream",
     "text": [
      "                 Class     Images  Instances      Box(P          R      mAP50  mAP50-95): 100%|██████████| 1/1 [00:17<00:00, 17.52s/it]"
     ]
    },
    {
     "name": "stdout",
     "output_type": "stream",
     "text": [
      "                   all         30       1003      0.982      0.284      0.368       0.28\n"
     ]
    },
    {
     "name": "stderr",
     "output_type": "stream",
     "text": [
      "\n"
     ]
    },
    {
     "name": "stdout",
     "output_type": "stream",
     "text": [
      "\n",
      "      Epoch    GPU_mem   box_loss   cls_loss   dfl_loss  Instances       Size\n"
     ]
    },
    {
     "name": "stderr",
     "output_type": "stream",
     "text": [
      "      25/50      9.92G      1.041     0.5189     0.9225        415        640: 100%|██████████| 7/7 [00:55<00:00,  7.99s/it]\n",
      "                 Class     Images  Instances      Box(P          R      mAP50  mAP50-95):   0%|          | 0/1 [00:00<?, ?it/s]"
     ]
    },
    {
     "name": "stdout",
     "output_type": "stream",
     "text": [
      "WARNING ⚠️ NMS time limit 3.500s exceeded\n"
     ]
    },
    {
     "name": "stderr",
     "output_type": "stream",
     "text": [
      "                 Class     Images  Instances      Box(P          R      mAP50  mAP50-95): 100%|██████████| 1/1 [00:15<00:00, 15.83s/it]"
     ]
    },
    {
     "name": "stdout",
     "output_type": "stream",
     "text": [
      "                   all         30       1003      0.981      0.284       0.37      0.281\n"
     ]
    },
    {
     "name": "stderr",
     "output_type": "stream",
     "text": [
      "\n"
     ]
    },
    {
     "name": "stdout",
     "output_type": "stream",
     "text": [
      "\n",
      "      Epoch    GPU_mem   box_loss   cls_loss   dfl_loss  Instances       Size\n"
     ]
    },
    {
     "name": "stderr",
     "output_type": "stream",
     "text": [
      "      26/50      9.93G      1.051     0.5315     0.9209        377        640: 100%|██████████| 7/7 [00:59<00:00,  8.49s/it]\n",
      "                 Class     Images  Instances      Box(P          R      mAP50  mAP50-95):   0%|          | 0/1 [00:00<?, ?it/s]"
     ]
    },
    {
     "name": "stdout",
     "output_type": "stream",
     "text": [
      "WARNING ⚠️ NMS time limit 3.500s exceeded\n"
     ]
    },
    {
     "name": "stderr",
     "output_type": "stream",
     "text": [
      "                 Class     Images  Instances      Box(P          R      mAP50  mAP50-95): 100%|██████████| 1/1 [00:16<00:00, 16.70s/it]"
     ]
    },
    {
     "name": "stdout",
     "output_type": "stream",
     "text": [
      "                   all         30       1003      0.978      0.285      0.375      0.284\n"
     ]
    },
    {
     "name": "stderr",
     "output_type": "stream",
     "text": [
      "\n"
     ]
    },
    {
     "name": "stdout",
     "output_type": "stream",
     "text": [
      "\n",
      "      Epoch    GPU_mem   box_loss   cls_loss   dfl_loss  Instances       Size\n"
     ]
    },
    {
     "name": "stderr",
     "output_type": "stream",
     "text": [
      "      27/50      9.97G      1.014     0.5083     0.9066        490        640: 100%|██████████| 7/7 [00:59<00:00,  8.46s/it]\n",
      "                 Class     Images  Instances      Box(P          R      mAP50  mAP50-95):   0%|          | 0/1 [00:00<?, ?it/s]"
     ]
    },
    {
     "name": "stdout",
     "output_type": "stream",
     "text": [
      "WARNING ⚠️ NMS time limit 3.500s exceeded\n"
     ]
    },
    {
     "name": "stderr",
     "output_type": "stream",
     "text": [
      "                 Class     Images  Instances      Box(P          R      mAP50  mAP50-95): 100%|██████████| 1/1 [00:16<00:00, 16.41s/it]"
     ]
    },
    {
     "name": "stdout",
     "output_type": "stream",
     "text": [
      "                   all         30       1003      0.975      0.227      0.322      0.255\n"
     ]
    },
    {
     "name": "stderr",
     "output_type": "stream",
     "text": [
      "\n"
     ]
    },
    {
     "name": "stdout",
     "output_type": "stream",
     "text": [
      "\n",
      "      Epoch    GPU_mem   box_loss   cls_loss   dfl_loss  Instances       Size\n"
     ]
    },
    {
     "name": "stderr",
     "output_type": "stream",
     "text": [
      "      28/50        11G      1.017     0.4929     0.9219        545        640: 100%|██████████| 7/7 [00:47<00:00,  6.78s/it]\n",
      "                 Class     Images  Instances      Box(P          R      mAP50  mAP50-95):   0%|          | 0/1 [00:00<?, ?it/s]"
     ]
    },
    {
     "name": "stdout",
     "output_type": "stream",
     "text": [
      "WARNING ⚠️ NMS time limit 3.500s exceeded\n"
     ]
    },
    {
     "name": "stderr",
     "output_type": "stream",
     "text": [
      "                 Class     Images  Instances      Box(P          R      mAP50  mAP50-95): 100%|██████████| 1/1 [00:25<00:00, 25.28s/it]"
     ]
    },
    {
     "name": "stdout",
     "output_type": "stream",
     "text": [
      "                   all         30       1003      0.978      0.178      0.262      0.208\n"
     ]
    },
    {
     "name": "stderr",
     "output_type": "stream",
     "text": [
      "\n"
     ]
    },
    {
     "name": "stdout",
     "output_type": "stream",
     "text": [
      "\n",
      "      Epoch    GPU_mem   box_loss   cls_loss   dfl_loss  Instances       Size\n"
     ]
    },
    {
     "name": "stderr",
     "output_type": "stream",
     "text": [
      "      29/50        10G      1.024     0.5002     0.9143        444        640: 100%|██████████| 7/7 [00:52<00:00,  7.44s/it]\n",
      "                 Class     Images  Instances      Box(P          R      mAP50  mAP50-95):   0%|          | 0/1 [00:00<?, ?it/s]"
     ]
    },
    {
     "name": "stdout",
     "output_type": "stream",
     "text": [
      "WARNING ⚠️ NMS time limit 3.500s exceeded\n"
     ]
    },
    {
     "name": "stderr",
     "output_type": "stream",
     "text": [
      "                 Class     Images  Instances      Box(P          R      mAP50  mAP50-95): 100%|██████████| 1/1 [00:12<00:00, 12.73s/it]"
     ]
    },
    {
     "name": "stdout",
     "output_type": "stream",
     "text": [
      "                   all         30       1003      0.982      0.178      0.258      0.204\n"
     ]
    },
    {
     "name": "stderr",
     "output_type": "stream",
     "text": [
      "\n"
     ]
    },
    {
     "name": "stdout",
     "output_type": "stream",
     "text": [
      "\n",
      "      Epoch    GPU_mem   box_loss   cls_loss   dfl_loss  Instances       Size\n"
     ]
    },
    {
     "name": "stderr",
     "output_type": "stream",
     "text": [
      "      30/50        10G     0.9914     0.4998      0.905        644        640: 100%|██████████| 7/7 [01:00<00:00,  8.58s/it]\n",
      "                 Class     Images  Instances      Box(P          R      mAP50  mAP50-95):   0%|          | 0/1 [00:00<?, ?it/s]"
     ]
    },
    {
     "name": "stdout",
     "output_type": "stream",
     "text": [
      "WARNING ⚠️ NMS time limit 3.500s exceeded\n"
     ]
    },
    {
     "name": "stderr",
     "output_type": "stream",
     "text": [
      "                 Class     Images  Instances      Box(P          R      mAP50  mAP50-95): 100%|██████████| 1/1 [00:18<00:00, 18.80s/it]"
     ]
    },
    {
     "name": "stdout",
     "output_type": "stream",
     "text": [
      "                   all         30       1003      0.975      0.226       0.32      0.249\n"
     ]
    },
    {
     "name": "stderr",
     "output_type": "stream",
     "text": [
      "\n"
     ]
    },
    {
     "name": "stdout",
     "output_type": "stream",
     "text": [
      "\n",
      "      Epoch    GPU_mem   box_loss   cls_loss   dfl_loss  Instances       Size\n"
     ]
    },
    {
     "name": "stderr",
     "output_type": "stream",
     "text": [
      "      31/50      10.1G      1.007     0.4882     0.8915        378        640: 100%|██████████| 7/7 [00:56<00:00,  8.08s/it]\n",
      "                 Class     Images  Instances      Box(P          R      mAP50  mAP50-95):   0%|          | 0/1 [00:00<?, ?it/s]"
     ]
    },
    {
     "name": "stdout",
     "output_type": "stream",
     "text": [
      "WARNING ⚠️ NMS time limit 3.500s exceeded\n"
     ]
    },
    {
     "name": "stderr",
     "output_type": "stream",
     "text": [
      "                 Class     Images  Instances      Box(P          R      mAP50  mAP50-95): 100%|██████████| 1/1 [00:22<00:00, 22.67s/it]"
     ]
    },
    {
     "name": "stdout",
     "output_type": "stream",
     "text": [
      "                   all         30       1003      0.964      0.227      0.325       0.26\n"
     ]
    },
    {
     "name": "stderr",
     "output_type": "stream",
     "text": [
      "\n"
     ]
    },
    {
     "name": "stdout",
     "output_type": "stream",
     "text": [
      "\n",
      "      Epoch    GPU_mem   box_loss   cls_loss   dfl_loss  Instances       Size\n"
     ]
    },
    {
     "name": "stderr",
     "output_type": "stream",
     "text": [
      "      32/50      10.1G     0.9799     0.4897     0.9042        392        640: 100%|██████████| 7/7 [01:07<00:00,  9.65s/it]\n",
      "                 Class     Images  Instances      Box(P          R      mAP50  mAP50-95):   0%|          | 0/1 [00:00<?, ?it/s]"
     ]
    },
    {
     "name": "stdout",
     "output_type": "stream",
     "text": [
      "WARNING ⚠️ NMS time limit 3.500s exceeded\n"
     ]
    },
    {
     "name": "stderr",
     "output_type": "stream",
     "text": [
      "                 Class     Images  Instances      Box(P          R      mAP50  mAP50-95): 100%|██████████| 1/1 [00:14<00:00, 14.60s/it]"
     ]
    },
    {
     "name": "stdout",
     "output_type": "stream",
     "text": [
      "                   all         30       1003      0.981       0.21      0.292      0.234\n"
     ]
    },
    {
     "name": "stderr",
     "output_type": "stream",
     "text": [
      "\n"
     ]
    },
    {
     "name": "stdout",
     "output_type": "stream",
     "text": [
      "\n",
      "      Epoch    GPU_mem   box_loss   cls_loss   dfl_loss  Instances       Size\n"
     ]
    },
    {
     "name": "stderr",
     "output_type": "stream",
     "text": [
      "      33/50      10.1G     0.9672     0.4811     0.8869        750        640: 100%|██████████| 7/7 [01:02<00:00,  8.94s/it]\n",
      "                 Class     Images  Instances      Box(P          R      mAP50  mAP50-95):   0%|          | 0/1 [00:00<?, ?it/s]"
     ]
    },
    {
     "name": "stdout",
     "output_type": "stream",
     "text": [
      "WARNING ⚠️ NMS time limit 3.500s exceeded\n"
     ]
    },
    {
     "name": "stderr",
     "output_type": "stream",
     "text": [
      "                 Class     Images  Instances      Box(P          R      mAP50  mAP50-95): 100%|██████████| 1/1 [00:24<00:00, 24.99s/it]"
     ]
    },
    {
     "name": "stdout",
     "output_type": "stream",
     "text": [
      "                   all         30       1003      0.993      0.283      0.383      0.294\n"
     ]
    },
    {
     "name": "stderr",
     "output_type": "stream",
     "text": [
      "\n"
     ]
    },
    {
     "name": "stdout",
     "output_type": "stream",
     "text": [
      "\n",
      "      Epoch    GPU_mem   box_loss   cls_loss   dfl_loss  Instances       Size\n"
     ]
    },
    {
     "name": "stderr",
     "output_type": "stream",
     "text": [
      "      34/50      12.1G     0.9643     0.4663     0.8916        494        640: 100%|██████████| 7/7 [01:13<00:00, 10.55s/it]\n",
      "                 Class     Images  Instances      Box(P          R      mAP50  mAP50-95):   0%|          | 0/1 [00:00<?, ?it/s]"
     ]
    },
    {
     "name": "stdout",
     "output_type": "stream",
     "text": [
      "WARNING ⚠️ NMS time limit 3.500s exceeded\n"
     ]
    },
    {
     "name": "stderr",
     "output_type": "stream",
     "text": [
      "                 Class     Images  Instances      Box(P          R      mAP50  mAP50-95): 100%|██████████| 1/1 [00:21<00:00, 21.11s/it]\n"
     ]
    },
    {
     "name": "stdout",
     "output_type": "stream",
     "text": [
      "                   all         30       1003      0.981      0.226       0.33      0.261\n",
      "\n",
      "      Epoch    GPU_mem   box_loss   cls_loss   dfl_loss  Instances       Size\n"
     ]
    },
    {
     "name": "stderr",
     "output_type": "stream",
     "text": [
      "      35/50      11.2G      1.023     0.4869     0.8959        625        640: 100%|██████████| 7/7 [01:04<00:00,  9.16s/it]\n",
      "                 Class     Images  Instances      Box(P          R      mAP50  mAP50-95):   0%|          | 0/1 [00:00<?, ?it/s]"
     ]
    },
    {
     "name": "stdout",
     "output_type": "stream",
     "text": [
      "WARNING ⚠️ NMS time limit 3.500s exceeded\n"
     ]
    },
    {
     "name": "stderr",
     "output_type": "stream",
     "text": [
      "                 Class     Images  Instances      Box(P          R      mAP50  mAP50-95): 100%|██████████| 1/1 [00:46<00:00, 46.35s/it]"
     ]
    },
    {
     "name": "stdout",
     "output_type": "stream",
     "text": [
      "                   all         30       1003      0.983      0.226      0.331      0.263\n"
     ]
    },
    {
     "name": "stderr",
     "output_type": "stream",
     "text": [
      "\n"
     ]
    },
    {
     "name": "stdout",
     "output_type": "stream",
     "text": [
      "\n",
      "      Epoch    GPU_mem   box_loss   cls_loss   dfl_loss  Instances       Size\n"
     ]
    },
    {
     "name": "stderr",
     "output_type": "stream",
     "text": [
      "      36/50      11.2G     0.9724     0.4671     0.9001        631        640: 100%|██████████| 7/7 [01:07<00:00,  9.66s/it]\n",
      "                 Class     Images  Instances      Box(P          R      mAP50  mAP50-95):   0%|          | 0/1 [00:00<?, ?it/s]"
     ]
    },
    {
     "name": "stdout",
     "output_type": "stream",
     "text": [
      "WARNING ⚠️ NMS time limit 3.500s exceeded\n"
     ]
    },
    {
     "name": "stderr",
     "output_type": "stream",
     "text": [
      "                 Class     Images  Instances      Box(P          R      mAP50  mAP50-95): 100%|██████████| 1/1 [00:33<00:00, 33.19s/it]"
     ]
    },
    {
     "name": "stdout",
     "output_type": "stream",
     "text": [
      "                   all         30       1003      0.981      0.226      0.331       0.26\n"
     ]
    },
    {
     "name": "stderr",
     "output_type": "stream",
     "text": [
      "\n"
     ]
    },
    {
     "name": "stdout",
     "output_type": "stream",
     "text": [
      "\n",
      "      Epoch    GPU_mem   box_loss   cls_loss   dfl_loss  Instances       Size\n"
     ]
    },
    {
     "name": "stderr",
     "output_type": "stream",
     "text": [
      "      37/50      10.2G     0.9339     0.4538     0.8975        713        640: 100%|██████████| 7/7 [01:04<00:00,  9.21s/it]\n",
      "                 Class     Images  Instances      Box(P          R      mAP50  mAP50-95):   0%|          | 0/1 [00:00<?, ?it/s]"
     ]
    },
    {
     "name": "stdout",
     "output_type": "stream",
     "text": [
      "WARNING ⚠️ NMS time limit 3.500s exceeded\n"
     ]
    },
    {
     "name": "stderr",
     "output_type": "stream",
     "text": [
      "                 Class     Images  Instances      Box(P          R      mAP50  mAP50-95): 100%|██████████| 1/1 [00:19<00:00, 19.32s/it]"
     ]
    },
    {
     "name": "stdout",
     "output_type": "stream",
     "text": [
      "                   all         30       1003      0.982      0.226       0.33      0.262\n"
     ]
    },
    {
     "name": "stderr",
     "output_type": "stream",
     "text": [
      "\n"
     ]
    },
    {
     "name": "stdout",
     "output_type": "stream",
     "text": [
      "\n",
      "      Epoch    GPU_mem   box_loss   cls_loss   dfl_loss  Instances       Size\n"
     ]
    },
    {
     "name": "stderr",
     "output_type": "stream",
     "text": [
      "      38/50      11.3G     0.9738     0.4722     0.9001        497        640: 100%|██████████| 7/7 [01:19<00:00, 11.37s/it]\n",
      "                 Class     Images  Instances      Box(P          R      mAP50  mAP50-95):   0%|          | 0/1 [00:00<?, ?it/s]"
     ]
    },
    {
     "name": "stdout",
     "output_type": "stream",
     "text": [
      "WARNING ⚠️ NMS time limit 3.500s exceeded\n"
     ]
    },
    {
     "name": "stderr",
     "output_type": "stream",
     "text": [
      "                 Class     Images  Instances      Box(P          R      mAP50  mAP50-95): 100%|██████████| 1/1 [00:28<00:00, 28.26s/it]\n"
     ]
    },
    {
     "name": "stdout",
     "output_type": "stream",
     "text": [
      "                   all         30       1003      0.929      0.147      0.224      0.188\n",
      "\n",
      "      Epoch    GPU_mem   box_loss   cls_loss   dfl_loss  Instances       Size\n"
     ]
    },
    {
     "name": "stderr",
     "output_type": "stream",
     "text": [
      "      39/50      11.7G     0.9521     0.4596     0.8946        611        640: 100%|██████████| 7/7 [01:14<00:00, 10.66s/it]\n",
      "                 Class     Images  Instances      Box(P          R      mAP50  mAP50-95):   0%|          | 0/1 [00:00<?, ?it/s]"
     ]
    },
    {
     "name": "stdout",
     "output_type": "stream",
     "text": [
      "WARNING ⚠️ NMS time limit 3.500s exceeded\n"
     ]
    },
    {
     "name": "stderr",
     "output_type": "stream",
     "text": [
      "                 Class     Images  Instances      Box(P          R      mAP50  mAP50-95): 100%|██████████| 1/1 [00:18<00:00, 18.26s/it]"
     ]
    },
    {
     "name": "stdout",
     "output_type": "stream",
     "text": [
      "                   all         30       1003      0.989      0.208      0.278      0.222\n"
     ]
    },
    {
     "name": "stderr",
     "output_type": "stream",
     "text": [
      "\n"
     ]
    },
    {
     "name": "stdout",
     "output_type": "stream",
     "text": [
      "\n",
      "      Epoch    GPU_mem   box_loss   cls_loss   dfl_loss  Instances       Size\n"
     ]
    },
    {
     "name": "stderr",
     "output_type": "stream",
     "text": [
      "      40/50      10.3G     0.9507     0.4524     0.8983        425        640: 100%|██████████| 7/7 [01:00<00:00,  8.69s/it]\n",
      "                 Class     Images  Instances      Box(P          R      mAP50  mAP50-95):   0%|          | 0/1 [00:00<?, ?it/s]"
     ]
    },
    {
     "name": "stdout",
     "output_type": "stream",
     "text": [
      "WARNING ⚠️ NMS time limit 3.500s exceeded\n"
     ]
    },
    {
     "name": "stderr",
     "output_type": "stream",
     "text": [
      "                 Class     Images  Instances      Box(P          R      mAP50  mAP50-95): 100%|██████████| 1/1 [00:13<00:00, 13.39s/it]"
     ]
    },
    {
     "name": "stdout",
     "output_type": "stream",
     "text": [
      "                   all         30       1003      0.959      0.025     0.0785     0.0531\n"
     ]
    },
    {
     "name": "stderr",
     "output_type": "stream",
     "text": [
      "\n"
     ]
    },
    {
     "name": "stdout",
     "output_type": "stream",
     "text": [
      "Closing dataloader mosaic\n",
      "\u001b[34m\u001b[1malbumentations: \u001b[0mBlur(p=0.01, blur_limit=(3, 7)), MedianBlur(p=0.01, blur_limit=(3, 7)), ToGray(p=0.01, num_output_channels=3, method='weighted_average'), CLAHE(p=0.01, clip_limit=(1.0, 4.0), tile_grid_size=(8, 8))\n",
      "\n",
      "      Epoch    GPU_mem   box_loss   cls_loss   dfl_loss  Instances       Size\n"
     ]
    },
    {
     "name": "stderr",
     "output_type": "stream",
     "text": [
      "      41/50      9.35G     0.9458     0.4729     0.9134        191        640: 100%|██████████| 7/7 [01:04<00:00,  9.15s/it]\n",
      "                 Class     Images  Instances      Box(P          R      mAP50  mAP50-95):   0%|          | 0/1 [00:00<?, ?it/s]"
     ]
    },
    {
     "name": "stdout",
     "output_type": "stream",
     "text": [
      "WARNING ⚠️ NMS time limit 3.500s exceeded\n"
     ]
    },
    {
     "name": "stderr",
     "output_type": "stream",
     "text": [
      "                 Class     Images  Instances      Box(P          R      mAP50  mAP50-95): 100%|██████████| 1/1 [00:18<00:00, 18.49s/it]"
     ]
    },
    {
     "name": "stdout",
     "output_type": "stream",
     "text": [
      "                   all         30       1003      0.988      0.285      0.377      0.288\n"
     ]
    },
    {
     "name": "stderr",
     "output_type": "stream",
     "text": [
      "\n"
     ]
    },
    {
     "name": "stdout",
     "output_type": "stream",
     "text": [
      "\n",
      "      Epoch    GPU_mem   box_loss   cls_loss   dfl_loss  Instances       Size\n"
     ]
    },
    {
     "name": "stderr",
     "output_type": "stream",
     "text": [
      "      42/50      8.38G     0.9605      0.462     0.9172        188        640: 100%|██████████| 7/7 [01:27<00:00, 12.55s/it]\n",
      "                 Class     Images  Instances      Box(P          R      mAP50  mAP50-95):   0%|          | 0/1 [00:00<?, ?it/s]"
     ]
    },
    {
     "name": "stdout",
     "output_type": "stream",
     "text": [
      "WARNING ⚠️ NMS time limit 3.500s exceeded\n"
     ]
    },
    {
     "name": "stderr",
     "output_type": "stream",
     "text": [
      "                 Class     Images  Instances      Box(P          R      mAP50  mAP50-95): 100%|██████████| 1/1 [00:18<00:00, 18.56s/it]"
     ]
    },
    {
     "name": "stdout",
     "output_type": "stream",
     "text": [
      "                   all         30       1003      0.984      0.227       0.32      0.248\n"
     ]
    },
    {
     "name": "stderr",
     "output_type": "stream",
     "text": [
      "\n"
     ]
    },
    {
     "name": "stdout",
     "output_type": "stream",
     "text": [
      "\n",
      "      Epoch    GPU_mem   box_loss   cls_loss   dfl_loss  Instances       Size\n"
     ]
    },
    {
     "name": "stderr",
     "output_type": "stream",
     "text": [
      "      43/50      9.47G      0.968     0.4742     0.9004        312        640: 100%|██████████| 7/7 [01:07<00:00,  9.62s/it]\n",
      "                 Class     Images  Instances      Box(P          R      mAP50  mAP50-95):   0%|          | 0/1 [00:00<?, ?it/s]"
     ]
    },
    {
     "name": "stdout",
     "output_type": "stream",
     "text": [
      "WARNING ⚠️ NMS time limit 3.500s exceeded\n"
     ]
    },
    {
     "name": "stderr",
     "output_type": "stream",
     "text": [
      "                 Class     Images  Instances      Box(P          R      mAP50  mAP50-95): 100%|██████████| 1/1 [00:15<00:00, 15.64s/it]"
     ]
    },
    {
     "name": "stdout",
     "output_type": "stream",
     "text": [
      "                   all         30       1003      0.987      0.147      0.225      0.187\n"
     ]
    },
    {
     "name": "stderr",
     "output_type": "stream",
     "text": [
      "\n"
     ]
    },
    {
     "name": "stdout",
     "output_type": "stream",
     "text": [
      "\n",
      "      Epoch    GPU_mem   box_loss   cls_loss   dfl_loss  Instances       Size\n"
     ]
    },
    {
     "name": "stderr",
     "output_type": "stream",
     "text": [
      "      44/50       8.4G     0.9808     0.4673       0.93        280        640: 100%|██████████| 7/7 [00:53<00:00,  7.62s/it]\n",
      "                 Class     Images  Instances      Box(P          R      mAP50  mAP50-95):   0%|          | 0/1 [00:00<?, ?it/s]"
     ]
    },
    {
     "name": "stdout",
     "output_type": "stream",
     "text": [
      "WARNING ⚠️ NMS time limit 3.500s exceeded\n"
     ]
    },
    {
     "name": "stderr",
     "output_type": "stream",
     "text": [
      "                 Class     Images  Instances      Box(P          R      mAP50  mAP50-95): 100%|██████████| 1/1 [00:18<00:00, 18.84s/it]"
     ]
    },
    {
     "name": "stdout",
     "output_type": "stream",
     "text": [
      "                   all         30       1003      0.981      0.227      0.314      0.247\n"
     ]
    },
    {
     "name": "stderr",
     "output_type": "stream",
     "text": [
      "\n"
     ]
    },
    {
     "name": "stdout",
     "output_type": "stream",
     "text": [
      "\n",
      "      Epoch    GPU_mem   box_loss   cls_loss   dfl_loss  Instances       Size\n"
     ]
    },
    {
     "name": "stderr",
     "output_type": "stream",
     "text": [
      "      45/50      9.42G     0.9602     0.4565     0.9131        294        640: 100%|██████████| 7/7 [01:01<00:00,  8.79s/it]\n",
      "                 Class     Images  Instances      Box(P          R      mAP50  mAP50-95):   0%|          | 0/1 [00:00<?, ?it/s]"
     ]
    },
    {
     "name": "stdout",
     "output_type": "stream",
     "text": [
      "WARNING ⚠️ NMS time limit 3.500s exceeded\n"
     ]
    },
    {
     "name": "stderr",
     "output_type": "stream",
     "text": [
      "                 Class     Images  Instances      Box(P          R      mAP50  mAP50-95): 100%|██████████| 1/1 [00:18<00:00, 18.56s/it]"
     ]
    },
    {
     "name": "stdout",
     "output_type": "stream",
     "text": [
      "                   all         30       1003      0.993       0.21      0.277      0.218\n"
     ]
    },
    {
     "name": "stderr",
     "output_type": "stream",
     "text": [
      "\n"
     ]
    },
    {
     "name": "stdout",
     "output_type": "stream",
     "text": [
      "\n",
      "      Epoch    GPU_mem   box_loss   cls_loss   dfl_loss  Instances       Size\n"
     ]
    },
    {
     "name": "stderr",
     "output_type": "stream",
     "text": [
      "      46/50      9.43G     0.9578     0.4501     0.9004        259        640: 100%|██████████| 7/7 [00:55<00:00,  7.88s/it]\n",
      "                 Class     Images  Instances      Box(P          R      mAP50  mAP50-95):   0%|          | 0/1 [00:00<?, ?it/s]"
     ]
    },
    {
     "name": "stdout",
     "output_type": "stream",
     "text": [
      "WARNING ⚠️ NMS time limit 3.500s exceeded\n"
     ]
    },
    {
     "name": "stderr",
     "output_type": "stream",
     "text": [
      "                 Class     Images  Instances      Box(P          R      mAP50  mAP50-95): 100%|██████████| 1/1 [00:18<00:00, 18.32s/it]"
     ]
    },
    {
     "name": "stdout",
     "output_type": "stream",
     "text": [
      "                   all         30       1003      0.982      0.147      0.222      0.183\n"
     ]
    },
    {
     "name": "stderr",
     "output_type": "stream",
     "text": [
      "\n"
     ]
    },
    {
     "name": "stdout",
     "output_type": "stream",
     "text": [
      "\n",
      "      Epoch    GPU_mem   box_loss   cls_loss   dfl_loss  Instances       Size\n"
     ]
    },
    {
     "name": "stderr",
     "output_type": "stream",
     "text": [
      "      47/50      9.46G     0.9484     0.4441     0.9004        196        640: 100%|██████████| 7/7 [01:06<00:00,  9.52s/it]\n",
      "                 Class     Images  Instances      Box(P          R      mAP50  mAP50-95):   0%|          | 0/1 [00:00<?, ?it/s]"
     ]
    },
    {
     "name": "stdout",
     "output_type": "stream",
     "text": [
      "WARNING ⚠️ NMS time limit 3.500s exceeded\n"
     ]
    },
    {
     "name": "stderr",
     "output_type": "stream",
     "text": [
      "                 Class     Images  Instances      Box(P          R      mAP50  mAP50-95): 100%|██████████| 1/1 [00:17<00:00, 17.93s/it]"
     ]
    },
    {
     "name": "stdout",
     "output_type": "stream",
     "text": [
      "                   all         30       1003      0.992      0.178      0.248      0.192\n"
     ]
    },
    {
     "name": "stderr",
     "output_type": "stream",
     "text": [
      "\n"
     ]
    },
    {
     "name": "stdout",
     "output_type": "stream",
     "text": [
      "\n",
      "      Epoch    GPU_mem   box_loss   cls_loss   dfl_loss  Instances       Size\n"
     ]
    },
    {
     "name": "stderr",
     "output_type": "stream",
     "text": [
      "      48/50      9.48G     0.9304     0.4395     0.9089        316        640: 100%|██████████| 7/7 [01:03<00:00,  9.05s/it]\n",
      "                 Class     Images  Instances      Box(P          R      mAP50  mAP50-95):   0%|          | 0/1 [00:00<?, ?it/s]"
     ]
    },
    {
     "name": "stdout",
     "output_type": "stream",
     "text": [
      "WARNING ⚠️ NMS time limit 3.500s exceeded\n"
     ]
    },
    {
     "name": "stderr",
     "output_type": "stream",
     "text": [
      "                 Class     Images  Instances      Box(P          R      mAP50  mAP50-95): 100%|██████████| 1/1 [00:14<00:00, 14.04s/it]"
     ]
    },
    {
     "name": "stdout",
     "output_type": "stream",
     "text": [
      "                   all         30       1003      0.977      0.025     0.0764     0.0506\n"
     ]
    },
    {
     "name": "stderr",
     "output_type": "stream",
     "text": [
      "\n"
     ]
    },
    {
     "name": "stdout",
     "output_type": "stream",
     "text": [
      "\n",
      "      Epoch    GPU_mem   box_loss   cls_loss   dfl_loss  Instances       Size\n"
     ]
    },
    {
     "name": "stderr",
     "output_type": "stream",
     "text": [
      "      49/50      9.51G     0.9252      0.434     0.8925        232        640: 100%|██████████| 7/7 [01:22<00:00, 11.80s/it]\n",
      "                 Class     Images  Instances      Box(P          R      mAP50  mAP50-95):   0%|          | 0/1 [00:00<?, ?it/s]"
     ]
    },
    {
     "name": "stdout",
     "output_type": "stream",
     "text": [
      "WARNING ⚠️ NMS time limit 3.500s exceeded\n"
     ]
    },
    {
     "name": "stderr",
     "output_type": "stream",
     "text": [
      "                 Class     Images  Instances      Box(P          R      mAP50  mAP50-95): 100%|██████████| 1/1 [00:25<00:00, 25.44s/it]\n"
     ]
    },
    {
     "name": "stdout",
     "output_type": "stream",
     "text": [
      "                   all         30       1003      0.972      0.147      0.228      0.189\n",
      "\n",
      "      Epoch    GPU_mem   box_loss   cls_loss   dfl_loss  Instances       Size\n"
     ]
    },
    {
     "name": "stderr",
     "output_type": "stream",
     "text": [
      "      50/50      9.53G     0.9324     0.4421     0.9009        286        640: 100%|██████████| 7/7 [01:19<00:00, 11.32s/it]\n",
      "                 Class     Images  Instances      Box(P          R      mAP50  mAP50-95):   0%|          | 0/1 [00:00<?, ?it/s]"
     ]
    },
    {
     "name": "stdout",
     "output_type": "stream",
     "text": [
      "WARNING ⚠️ NMS time limit 3.500s exceeded\n"
     ]
    },
    {
     "name": "stderr",
     "output_type": "stream",
     "text": [
      "                 Class     Images  Instances      Box(P          R      mAP50  mAP50-95): 100%|██████████| 1/1 [00:20<00:00, 20.73s/it]\n"
     ]
    },
    {
     "name": "stdout",
     "output_type": "stream",
     "text": [
      "                   all         30       1003      0.989       0.21      0.288      0.228\n",
      "\n",
      "50 epochs completed in 1.075 hours.\n",
      "Optimizer stripped from runs/detect/train5/weights/last.pt, 22.5MB\n",
      "Optimizer stripped from runs/detect/train5/weights/best.pt, 22.5MB\n",
      "\n",
      "Validating runs/detect/train5/weights/best.pt...\n",
      "Ultralytics 8.3.86 🚀 Python-3.13.1 torch-2.6.0 MPS (Apple M1)\n",
      "Model summary (fused): 72 layers, 11,132,937 parameters, 0 gradients, 28.5 GFLOPs\n"
     ]
    },
    {
     "name": "stderr",
     "output_type": "stream",
     "text": [
      "                 Class     Images  Instances      Box(P          R      mAP50  mAP50-95):   0%|          | 0/1 [00:00<?, ?it/s]"
     ]
    },
    {
     "name": "stdout",
     "output_type": "stream",
     "text": [
      "WARNING ⚠️ NMS time limit 3.500s exceeded\n"
     ]
    },
    {
     "name": "stderr",
     "output_type": "stream",
     "text": [
      "                 Class     Images  Instances      Box(P          R      mAP50  mAP50-95): 100%|██████████| 1/1 [00:12<00:00, 12.98s/it]\n"
     ]
    },
    {
     "name": "stdout",
     "output_type": "stream",
     "text": [
      "                   all         30       1003      0.491      0.144      0.271       0.21\n",
      "      HorlicksCTSL18ml          6        231          0          0          0          0\n",
      "           ClearMen5ml         16        641      0.505     0.0718      0.219      0.124\n",
      "DoveConditionerIRPDOLCE7ml          8        131      0.968      0.359      0.595      0.505\n",
      "Speed: 0.7ms preprocess, 135.4ms inference, 0.0ms loss, 119.1ms postprocess per image\n",
      "Results saved to \u001b[1mruns/detect/train5\u001b[0m\n"
     ]
    }
   ],
   "source": [
    "from ultralytics import YOLO\n",
    "\n",
    "# Load YOLO model\n",
    "model = YOLO(\"yolov8s.pt\")  # Use \"yolov8n.pt\" for a smaller model\n",
    "\n",
    "# Train the model using M1 GPU\n",
    "results = model.train(\n",
    "    data=\"./dataset/dataset.yaml\",\n",
    "    epochs=50,\n",
    "    batch=16,\n",
    "    imgsz=640,\n",
    "    workers=4,\n",
    "    device=\"mps\"  # Use Apple Metal GPU (M1/M2 Macs)\n",
    ")\n",
    "\n",
    "# Save the trained model\n",
    "model.save(\"UBLModel_v1.pt\")"
   ]
  },
  {
   "cell_type": "code",
   "execution_count": null,
   "metadata": {},
   "outputs": [
    {
     "name": "stdout",
     "output_type": "stream",
     "text": [
      "Model loaded from runs/detect/train5/weights/best.pt\n",
      "Found 150 images in /Users/rajin/Developer/ITNSHIP/RETAIL-ANALYSIS/Main/data/images\n",
      "\n",
      "image 1/1 /Users/rajin/Developer/ITNSHIP/RETAIL-ANALYSIS/Main/data/images/horlicks4_aug_4.jpg: 640x512 41 HorlicksCTSL18mls, 142.6ms\n",
      "Speed: 3.7ms preprocess, 142.6ms inference, 0.8ms postprocess per image at shape (1, 3, 640, 512)\n",
      "Processed: horlicks4_aug_4.jpg - Detected 41 objects of 1 classes\n",
      "\n",
      "image 1/1 /Users/rajin/Developer/ITNSHIP/RETAIL-ANALYSIS/Main/data/images/doveconditioner7_aug_1.jpg: 480x640 1 HorlicksCTSL18ml, 47 DoveConditionerIRPDOLCE7mls, 142.8ms\n",
      "Speed: 4.1ms preprocess, 142.8ms inference, 2.0ms postprocess per image at shape (1, 3, 480, 640)\n",
      "Processed: doveconditioner7_aug_1.jpg - Detected 48 objects of 2 classes\n",
      "\n",
      "image 1/1 /Users/rajin/Developer/ITNSHIP/RETAIL-ANALYSIS/Main/data/images/horlicks2_aug_3.jpg: 480x640 12 HorlicksCTSL18mls, 1 DoveConditionerIRPDOLCE7ml, 98.1ms\n",
      "Speed: 2.9ms preprocess, 98.1ms inference, 0.4ms postprocess per image at shape (1, 3, 480, 640)\n",
      "Processed: horlicks2_aug_3.jpg - Detected 13 objects of 2 classes\n",
      "\n",
      "image 1/1 /Users/rajin/Developer/ITNSHIP/RETAIL-ANALYSIS/Main/data/images/clear12_aug_2.jpg: 480x640 98 ClearMen5mls, 118.9ms\n",
      "Speed: 1.7ms preprocess, 118.9ms inference, 0.6ms postprocess per image at shape (1, 3, 480, 640)\n",
      "Processed: clear12_aug_2.jpg - Detected 98 objects of 1 classes\n",
      "\n",
      "image 1/1 /Users/rajin/Developer/ITNSHIP/RETAIL-ANALYSIS/Main/data/images/clear12_aug_3.jpg: 480x640 97 ClearMen5mls, 108.0ms\n",
      "Speed: 1.6ms preprocess, 108.0ms inference, 1.4ms postprocess per image at shape (1, 3, 480, 640)\n",
      "Processed: clear12_aug_3.jpg - Detected 97 objects of 1 classes\n",
      "\n",
      "image 1/1 /Users/rajin/Developer/ITNSHIP/RETAIL-ANALYSIS/Main/data/images/horlicks2_aug_2.jpg: 480x640 18 HorlicksCTSL18mls, 1 DoveConditionerIRPDOLCE7ml, 89.7ms\n",
      "Speed: 1.7ms preprocess, 89.7ms inference, 0.4ms postprocess per image at shape (1, 3, 480, 640)\n",
      "Processed: horlicks2_aug_2.jpg - Detected 19 objects of 2 classes\n",
      "\n",
      "image 1/1 /Users/rajin/Developer/ITNSHIP/RETAIL-ANALYSIS/Main/data/images/clear14_aug_4.jpg: 480x640 79 ClearMen5mls, 111.0ms\n",
      "Speed: 1.6ms preprocess, 111.0ms inference, 0.7ms postprocess per image at shape (1, 3, 480, 640)\n",
      "Processed: clear14_aug_4.jpg - Detected 79 objects of 1 classes\n",
      "\n",
      "image 1/1 /Users/rajin/Developer/ITNSHIP/RETAIL-ANALYSIS/Main/data/images/doveconditioner7_aug_0.jpg: 480x640 2 HorlicksCTSL18mls, 46 DoveConditionerIRPDOLCE7mls, 101.6ms\n",
      "Speed: 2.0ms preprocess, 101.6ms inference, 1.0ms postprocess per image at shape (1, 3, 480, 640)\n",
      "Processed: doveconditioner7_aug_0.jpg - Detected 48 objects of 2 classes\n",
      "\n",
      "image 1/1 /Users/rajin/Developer/ITNSHIP/RETAIL-ANALYSIS/Main/data/images/doveconditioner7_aug_2.jpg: 480x640 1 HorlicksCTSL18ml, 47 DoveConditionerIRPDOLCE7mls, 95.2ms\n",
      "Speed: 3.2ms preprocess, 95.2ms inference, 0.6ms postprocess per image at shape (1, 3, 480, 640)\n",
      "Processed: doveconditioner7_aug_2.jpg - Detected 48 objects of 2 classes\n",
      "\n",
      "image 1/1 /Users/rajin/Developer/ITNSHIP/RETAIL-ANALYSIS/Main/data/images/horlicks2_aug_0.jpg: 480x640 12 HorlicksCTSL18mls, 1 DoveConditionerIRPDOLCE7ml, 103.2ms\n",
      "Speed: 2.1ms preprocess, 103.2ms inference, 0.4ms postprocess per image at shape (1, 3, 480, 640)\n",
      "Processed: horlicks2_aug_0.jpg - Detected 13 objects of 2 classes\n",
      "\n",
      "image 1/1 /Users/rajin/Developer/ITNSHIP/RETAIL-ANALYSIS/Main/data/images/clear12_aug_1.jpg: 480x640 96 ClearMen5mls, 97.8ms\n",
      "Speed: 1.4ms preprocess, 97.8ms inference, 2.4ms postprocess per image at shape (1, 3, 480, 640)\n",
      "Processed: clear12_aug_1.jpg - Detected 96 objects of 1 classes\n",
      "\n",
      "image 1/1 /Users/rajin/Developer/ITNSHIP/RETAIL-ANALYSIS/Main/data/images/doveconditioner1_aug_4.jpg: 640x416 1 DoveConditionerIRPDOLCE7ml, 104.4ms\n",
      "Speed: 1.3ms preprocess, 104.4ms inference, 0.4ms postprocess per image at shape (1, 3, 640, 416)\n",
      "Processed: doveconditioner1_aug_4.jpg - Detected 1 objects of 1 classes\n",
      "\n",
      "image 1/1 /Users/rajin/Developer/ITNSHIP/RETAIL-ANALYSIS/Main/data/images/clear12_aug_0.jpg: 480x640 96 ClearMen5mls, 113.2ms\n",
      "Speed: 2.0ms preprocess, 113.2ms inference, 0.5ms postprocess per image at shape (1, 3, 480, 640)\n",
      "Processed: clear12_aug_0.jpg - Detected 96 objects of 1 classes\n",
      "\n",
      "image 1/1 /Users/rajin/Developer/ITNSHIP/RETAIL-ANALYSIS/Main/data/images/horlicks2_aug_1.jpg: 480x640 26 HorlicksCTSL18mls, 1 ClearMen5ml, 2 DoveConditionerIRPDOLCE7mls, 100.2ms\n",
      "Speed: 2.1ms preprocess, 100.2ms inference, 0.5ms postprocess per image at shape (1, 3, 480, 640)\n",
      "Processed: horlicks2_aug_1.jpg - Detected 29 objects of 3 classes\n",
      "\n",
      "image 1/1 /Users/rajin/Developer/ITNSHIP/RETAIL-ANALYSIS/Main/data/images/clear6_aug_4.jpg: 480x640 2 HorlicksCTSL18mls, 84 ClearMen5mls, 125.1ms\n",
      "Speed: 1.8ms preprocess, 125.1ms inference, 0.9ms postprocess per image at shape (1, 3, 480, 640)\n",
      "Processed: clear6_aug_4.jpg - Detected 86 objects of 2 classes\n",
      "\n",
      "image 1/1 /Users/rajin/Developer/ITNSHIP/RETAIL-ANALYSIS/Main/data/images/doveconditioner7_aug_3.jpg: 480x640 1 HorlicksCTSL18ml, 47 DoveConditionerIRPDOLCE7mls, 95.5ms\n",
      "Speed: 2.2ms preprocess, 95.5ms inference, 0.6ms postprocess per image at shape (1, 3, 480, 640)\n",
      "Processed: doveconditioner7_aug_3.jpg - Detected 48 objects of 2 classes\n",
      "\n",
      "image 1/1 /Users/rajin/Developer/ITNSHIP/RETAIL-ANALYSIS/Main/data/images/horlicks4_aug_2.jpg: 640x512 41 HorlicksCTSL18mls, 117.3ms\n",
      "Speed: 1.8ms preprocess, 117.3ms inference, 0.5ms postprocess per image at shape (1, 3, 640, 512)\n",
      "Processed: horlicks4_aug_2.jpg - Detected 41 objects of 1 classes\n",
      "\n",
      "image 1/1 /Users/rajin/Developer/ITNSHIP/RETAIL-ANALYSIS/Main/data/images/clear14_aug_3.jpg: 480x640 86 ClearMen5mls, 100.7ms\n",
      "Speed: 1.3ms preprocess, 100.7ms inference, 0.4ms postprocess per image at shape (1, 3, 480, 640)\n",
      "Processed: clear14_aug_3.jpg - Detected 86 objects of 1 classes\n",
      "\n",
      "image 1/1 /Users/rajin/Developer/ITNSHIP/RETAIL-ANALYSIS/Main/data/images/clear6_aug_0.jpg: 480x640 2 HorlicksCTSL18mls, 78 ClearMen5mls, 87.0ms\n",
      "Speed: 1.7ms preprocess, 87.0ms inference, 0.6ms postprocess per image at shape (1, 3, 480, 640)\n",
      "Processed: clear6_aug_0.jpg - Detected 80 objects of 2 classes\n",
      "\n",
      "image 1/1 /Users/rajin/Developer/ITNSHIP/RETAIL-ANALYSIS/Main/data/images/clear12_aug_4.jpg: 480x640 106 ClearMen5mls, 106.3ms\n",
      "Speed: 1.6ms preprocess, 106.3ms inference, 0.4ms postprocess per image at shape (1, 3, 480, 640)\n",
      "Processed: clear12_aug_4.jpg - Detected 106 objects of 1 classes\n",
      "\n",
      "image 1/1 /Users/rajin/Developer/ITNSHIP/RETAIL-ANALYSIS/Main/data/images/doveconditioner1_aug_0.jpg: 640x416 2 DoveConditionerIRPDOLCE7mls, 89.2ms\n",
      "Speed: 1.5ms preprocess, 89.2ms inference, 0.3ms postprocess per image at shape (1, 3, 640, 416)\n",
      "Processed: doveconditioner1_aug_0.jpg - Detected 2 objects of 1 classes\n",
      "\n",
      "image 1/1 /Users/rajin/Developer/ITNSHIP/RETAIL-ANALYSIS/Main/data/images/doveconditioner1_aug_1.jpg: 640x416 1 DoveConditionerIRPDOLCE7ml, 92.3ms\n",
      "Speed: 1.1ms preprocess, 92.3ms inference, 0.4ms postprocess per image at shape (1, 3, 640, 416)\n",
      "Processed: doveconditioner1_aug_1.jpg - Detected 1 objects of 1 classes\n",
      "\n",
      "image 1/1 /Users/rajin/Developer/ITNSHIP/RETAIL-ANALYSIS/Main/data/images/horlicks2_aug_4.jpg: 480x640 21 HorlicksCTSL18mls, 2 DoveConditionerIRPDOLCE7mls, 101.3ms\n",
      "Speed: 1.7ms preprocess, 101.3ms inference, 0.4ms postprocess per image at shape (1, 3, 480, 640)\n",
      "Processed: horlicks2_aug_4.jpg - Detected 23 objects of 2 classes\n",
      "\n",
      "image 1/1 /Users/rajin/Developer/ITNSHIP/RETAIL-ANALYSIS/Main/data/images/clear6_aug_1.jpg: 480x640 76 ClearMen5mls, 112.5ms\n",
      "Speed: 1.9ms preprocess, 112.5ms inference, 0.6ms postprocess per image at shape (1, 3, 480, 640)\n",
      "Processed: clear6_aug_1.jpg - Detected 76 objects of 1 classes\n",
      "\n",
      "image 1/1 /Users/rajin/Developer/ITNSHIP/RETAIL-ANALYSIS/Main/data/images/clear14_aug_2.jpg: 480x640 86 ClearMen5mls, 102.1ms\n",
      "Speed: 1.4ms preprocess, 102.1ms inference, 0.4ms postprocess per image at shape (1, 3, 480, 640)\n",
      "Processed: clear14_aug_2.jpg - Detected 86 objects of 1 classes\n",
      "\n",
      "image 1/1 /Users/rajin/Developer/ITNSHIP/RETAIL-ANALYSIS/Main/data/images/horlicks4_aug_3.jpg: 640x512 41 HorlicksCTSL18mls, 120.4ms\n",
      "Speed: 2.1ms preprocess, 120.4ms inference, 0.4ms postprocess per image at shape (1, 3, 640, 512)\n",
      "Processed: horlicks4_aug_3.jpg - Detected 41 objects of 1 classes\n",
      "\n",
      "image 1/1 /Users/rajin/Developer/ITNSHIP/RETAIL-ANALYSIS/Main/data/images/horlicks4_aug_1.jpg: 640x512 41 HorlicksCTSL18mls, 138.4ms\n",
      "Speed: 1.6ms preprocess, 138.4ms inference, 0.6ms postprocess per image at shape (1, 3, 640, 512)\n",
      "Processed: horlicks4_aug_1.jpg - Detected 41 objects of 1 classes\n",
      "\n",
      "image 1/1 /Users/rajin/Developer/ITNSHIP/RETAIL-ANALYSIS/Main/data/images/doveconditioner7_aug_4.jpg: 480x640 1 HorlicksCTSL18ml, 47 DoveConditionerIRPDOLCE7mls, 98.2ms\n",
      "Speed: 2.5ms preprocess, 98.2ms inference, 0.4ms postprocess per image at shape (1, 3, 480, 640)\n",
      "Processed: doveconditioner7_aug_4.jpg - Detected 48 objects of 2 classes\n",
      "\n",
      "image 1/1 /Users/rajin/Developer/ITNSHIP/RETAIL-ANALYSIS/Main/data/images/clear14_aug_0.jpg: 480x640 85 ClearMen5mls, 123.0ms\n",
      "Speed: 1.5ms preprocess, 123.0ms inference, 0.6ms postprocess per image at shape (1, 3, 480, 640)\n",
      "Processed: clear14_aug_0.jpg - Detected 85 objects of 1 classes\n",
      "\n",
      "image 1/1 /Users/rajin/Developer/ITNSHIP/RETAIL-ANALYSIS/Main/data/images/clear6_aug_3.jpg: 480x640 1 HorlicksCTSL18ml, 74 ClearMen5mls, 117.1ms\n",
      "Speed: 1.8ms preprocess, 117.1ms inference, 0.6ms postprocess per image at shape (1, 3, 480, 640)\n",
      "Processed: clear6_aug_3.jpg - Detected 75 objects of 2 classes\n",
      "\n",
      "image 1/1 /Users/rajin/Developer/ITNSHIP/RETAIL-ANALYSIS/Main/data/images/doveconditioner1_aug_3.jpg: 640x416 1 DoveConditionerIRPDOLCE7ml, 95.7ms\n",
      "Speed: 1.2ms preprocess, 95.7ms inference, 0.3ms postprocess per image at shape (1, 3, 640, 416)\n",
      "Processed: doveconditioner1_aug_3.jpg - Detected 1 objects of 1 classes\n",
      "\n",
      "image 1/1 /Users/rajin/Developer/ITNSHIP/RETAIL-ANALYSIS/Main/data/images/doveconditioner1_aug_2.jpg: 640x416 2 DoveConditionerIRPDOLCE7mls, 86.4ms\n",
      "Speed: 1.3ms preprocess, 86.4ms inference, 0.4ms postprocess per image at shape (1, 3, 640, 416)\n",
      "Processed: doveconditioner1_aug_2.jpg - Detected 2 objects of 1 classes\n",
      "\n",
      "image 1/1 /Users/rajin/Developer/ITNSHIP/RETAIL-ANALYSIS/Main/data/images/clear6_aug_2.jpg: 480x640 73 ClearMen5mls, 89.2ms\n",
      "Speed: 1.7ms preprocess, 89.2ms inference, 0.5ms postprocess per image at shape (1, 3, 480, 640)\n",
      "Processed: clear6_aug_2.jpg - Detected 73 objects of 1 classes\n",
      "\n",
      "image 1/1 /Users/rajin/Developer/ITNSHIP/RETAIL-ANALYSIS/Main/data/images/clear14_aug_1.jpg: 480x640 115 ClearMen5mls, 98.0ms\n",
      "Speed: 1.5ms preprocess, 98.0ms inference, 1.1ms postprocess per image at shape (1, 3, 480, 640)\n",
      "Processed: clear14_aug_1.jpg - Detected 115 objects of 1 classes\n",
      "\n",
      "image 1/1 /Users/rajin/Developer/ITNSHIP/RETAIL-ANALYSIS/Main/data/images/horlicks4_aug_0.jpg: 640x512 41 HorlicksCTSL18mls, 107.0ms\n",
      "Speed: 2.3ms preprocess, 107.0ms inference, 0.4ms postprocess per image at shape (1, 3, 640, 512)\n",
      "Processed: horlicks4_aug_0.jpg - Detected 41 objects of 1 classes\n",
      "\n",
      "image 1/1 /Users/rajin/Developer/ITNSHIP/RETAIL-ANALYSIS/Main/data/images/horlicks3_aug_3.jpg: 640x512 52 HorlicksCTSL18mls, 107.3ms\n",
      "Speed: 1.7ms preprocess, 107.3ms inference, 0.5ms postprocess per image at shape (1, 3, 640, 512)\n",
      "Processed: horlicks3_aug_3.jpg - Detected 52 objects of 1 classes\n",
      "\n",
      "image 1/1 /Users/rajin/Developer/ITNSHIP/RETAIL-ANALYSIS/Main/data/images/clear1_aug_1.jpg: 640x480 1 HorlicksCTSL18ml, 1 ClearMen5ml, 90.4ms\n",
      "Speed: 1.6ms preprocess, 90.4ms inference, 0.3ms postprocess per image at shape (1, 3, 640, 480)\n",
      "Processed: clear1_aug_1.jpg - Detected 2 objects of 2 classes\n",
      "\n",
      "image 1/1 /Users/rajin/Developer/ITNSHIP/RETAIL-ANALYSIS/Main/data/images/clear13_aug_2.jpg: 640x480 84 ClearMen5mls, 88.8ms\n",
      "Speed: 1.2ms preprocess, 88.8ms inference, 0.6ms postprocess per image at shape (1, 3, 640, 480)\n",
      "Processed: clear13_aug_2.jpg - Detected 84 objects of 1 classes\n",
      "\n",
      "image 1/1 /Users/rajin/Developer/ITNSHIP/RETAIL-ANALYSIS/Main/data/images/horlicks5_aug_4.jpg: 640x512 1 HorlicksCTSL18ml, 171.4ms\n",
      "Speed: 1.5ms preprocess, 171.4ms inference, 0.6ms postprocess per image at shape (1, 3, 640, 512)\n",
      "Processed: horlicks5_aug_4.jpg - Detected 1 objects of 1 classes\n",
      "\n",
      "image 1/1 /Users/rajin/Developer/ITNSHIP/RETAIL-ANALYSIS/Main/data/images/doveconditioner6_aug_1.jpg: 640x480 4 ClearMen5mls, 37 DoveConditionerIRPDOLCE7mls, 93.7ms\n",
      "Speed: 1.7ms preprocess, 93.7ms inference, 0.4ms postprocess per image at shape (1, 3, 640, 480)\n",
      "Processed: doveconditioner6_aug_1.jpg - Detected 41 objects of 2 classes\n",
      "\n",
      "image 1/1 /Users/rajin/Developer/ITNSHIP/RETAIL-ANALYSIS/Main/data/images/doveconditioner6_aug_0.jpg: 640x480 2 HorlicksCTSL18mls, 9 ClearMen5mls, 36 DoveConditionerIRPDOLCE7mls, 86.6ms\n",
      "Speed: 1.8ms preprocess, 86.6ms inference, 0.4ms postprocess per image at shape (1, 3, 640, 480)\n",
      "Processed: doveconditioner6_aug_0.jpg - Detected 47 objects of 3 classes\n",
      "\n",
      "image 1/1 /Users/rajin/Developer/ITNSHIP/RETAIL-ANALYSIS/Main/data/images/clear13_aug_3.jpg: 640x480 1 HorlicksCTSL18ml, 86 ClearMen5mls, 89.4ms\n",
      "Speed: 1.3ms preprocess, 89.4ms inference, 0.5ms postprocess per image at shape (1, 3, 640, 480)\n",
      "Processed: clear13_aug_3.jpg - Detected 87 objects of 2 classes\n",
      "\n",
      "image 1/1 /Users/rajin/Developer/ITNSHIP/RETAIL-ANALYSIS/Main/data/images/clear1_aug_0.jpg: 640x480 1 ClearMen5ml, 88.3ms\n",
      "Speed: 1.8ms preprocess, 88.3ms inference, 0.4ms postprocess per image at shape (1, 3, 640, 480)\n",
      "Processed: clear1_aug_0.jpg - Detected 1 objects of 1 classes\n",
      "\n",
      "image 1/1 /Users/rajin/Developer/ITNSHIP/RETAIL-ANALYSIS/Main/data/images/horlicks3_aug_2.jpg: 640x512 58 HorlicksCTSL18mls, 109.5ms\n",
      "Speed: 1.4ms preprocess, 109.5ms inference, 0.7ms postprocess per image at shape (1, 3, 640, 512)\n",
      "Processed: horlicks3_aug_2.jpg - Detected 58 objects of 1 classes\n",
      "\n",
      "image 1/1 /Users/rajin/Developer/ITNSHIP/RETAIL-ANALYSIS/Main/data/images/horlicks3_aug_0.jpg: 640x512 52 HorlicksCTSL18mls, 109.6ms\n",
      "Speed: 2.4ms preprocess, 109.6ms inference, 0.6ms postprocess per image at shape (1, 3, 640, 512)\n",
      "Processed: horlicks3_aug_0.jpg - Detected 52 objects of 1 classes\n",
      "\n",
      "image 1/1 /Users/rajin/Developer/ITNSHIP/RETAIL-ANALYSIS/Main/data/images/clear1_aug_2.jpg: 640x480 1 ClearMen5ml, 86.5ms\n",
      "Speed: 1.6ms preprocess, 86.5ms inference, 0.4ms postprocess per image at shape (1, 3, 640, 480)\n",
      "Processed: clear1_aug_2.jpg - Detected 1 objects of 1 classes\n",
      "\n",
      "image 1/1 /Users/rajin/Developer/ITNSHIP/RETAIL-ANALYSIS/Main/data/images/clear13_aug_1.jpg: 640x480 87 ClearMen5mls, 88.3ms\n",
      "Speed: 1.3ms preprocess, 88.3ms inference, 0.5ms postprocess per image at shape (1, 3, 640, 480)\n",
      "Processed: clear13_aug_1.jpg - Detected 87 objects of 1 classes\n",
      "\n",
      "image 1/1 /Users/rajin/Developer/ITNSHIP/RETAIL-ANALYSIS/Main/data/images/doveconditioner6_aug_2.jpg: 640x480 6 ClearMen5mls, 36 DoveConditionerIRPDOLCE7mls, 91.5ms\n",
      "Speed: 1.4ms preprocess, 91.5ms inference, 0.4ms postprocess per image at shape (1, 3, 640, 480)\n",
      "Processed: doveconditioner6_aug_2.jpg - Detected 42 objects of 2 classes\n",
      "\n",
      "image 1/1 /Users/rajin/Developer/ITNSHIP/RETAIL-ANALYSIS/Main/data/images/clear7_aug_4.jpg: 640x480 12 ClearMen5mls, 88.5ms\n",
      "Speed: 1.8ms preprocess, 88.5ms inference, 0.9ms postprocess per image at shape (1, 3, 640, 480)\n",
      "Processed: clear7_aug_4.jpg - Detected 12 objects of 1 classes\n",
      "\n",
      "image 1/1 /Users/rajin/Developer/ITNSHIP/RETAIL-ANALYSIS/Main/data/images/doveconditioner6_aug_3.jpg: 640x480 6 ClearMen5mls, 36 DoveConditionerIRPDOLCE7mls, 92.9ms\n",
      "Speed: 1.4ms preprocess, 92.9ms inference, 0.5ms postprocess per image at shape (1, 3, 640, 480)\n",
      "Processed: doveconditioner6_aug_3.jpg - Detected 42 objects of 2 classes\n",
      "\n",
      "image 1/1 /Users/rajin/Developer/ITNSHIP/RETAIL-ANALYSIS/Main/data/images/clear13_aug_0.jpg: 640x480 87 ClearMen5mls, 89.3ms\n",
      "Speed: 1.4ms preprocess, 89.3ms inference, 0.8ms postprocess per image at shape (1, 3, 640, 480)\n",
      "Processed: clear13_aug_0.jpg - Detected 87 objects of 1 classes\n",
      "\n",
      "image 1/1 /Users/rajin/Developer/ITNSHIP/RETAIL-ANALYSIS/Main/data/images/clear1_aug_3.jpg: 640x480 1 ClearMen5ml, 90.9ms\n",
      "Speed: 2.2ms preprocess, 90.9ms inference, 0.4ms postprocess per image at shape (1, 3, 640, 480)\n",
      "Processed: clear1_aug_3.jpg - Detected 1 objects of 1 classes\n",
      "\n",
      "image 1/1 /Users/rajin/Developer/ITNSHIP/RETAIL-ANALYSIS/Main/data/images/horlicks3_aug_1.jpg: 640x512 53 HorlicksCTSL18mls, 106.0ms\n",
      "Speed: 1.5ms preprocess, 106.0ms inference, 0.6ms postprocess per image at shape (1, 3, 640, 512)\n",
      "Processed: horlicks3_aug_1.jpg - Detected 53 objects of 1 classes\n",
      "\n",
      "image 1/1 /Users/rajin/Developer/ITNSHIP/RETAIL-ANALYSIS/Main/data/images/clear13_aug_4.jpg: 640x480 96 ClearMen5mls, 87.9ms\n",
      "Speed: 1.1ms preprocess, 87.9ms inference, 0.4ms postprocess per image at shape (1, 3, 640, 480)\n",
      "Processed: clear13_aug_4.jpg - Detected 96 objects of 1 classes\n",
      "\n",
      "image 1/1 /Users/rajin/Developer/ITNSHIP/RETAIL-ANALYSIS/Main/data/images/horlicks5_aug_2.jpg: 640x512 2 HorlicksCTSL18mls, 108.8ms\n",
      "Speed: 1.6ms preprocess, 108.8ms inference, 0.4ms postprocess per image at shape (1, 3, 640, 512)\n",
      "Processed: horlicks5_aug_2.jpg - Detected 2 objects of 1 classes\n",
      "\n",
      "image 1/1 /Users/rajin/Developer/ITNSHIP/RETAIL-ANALYSIS/Main/data/images/clear7_aug_0.jpg: 640x480 3 HorlicksCTSL18mls, 11 ClearMen5mls, 89.4ms\n",
      "Speed: 2.2ms preprocess, 89.4ms inference, 0.4ms postprocess per image at shape (1, 3, 640, 480)\n",
      "Processed: clear7_aug_0.jpg - Detected 14 objects of 2 classes\n",
      "\n",
      "image 1/1 /Users/rajin/Developer/ITNSHIP/RETAIL-ANALYSIS/Main/data/images/clear7_aug_1.jpg: 640x480 3 HorlicksCTSL18mls, 12 ClearMen5mls, 86.9ms\n",
      "Speed: 1.4ms preprocess, 86.9ms inference, 0.4ms postprocess per image at shape (1, 3, 640, 480)\n",
      "Processed: clear7_aug_1.jpg - Detected 15 objects of 2 classes\n",
      "\n",
      "image 1/1 /Users/rajin/Developer/ITNSHIP/RETAIL-ANALYSIS/Main/data/images/horlicks5_aug_3.jpg: 640x512 3 HorlicksCTSL18mls, 106.2ms\n",
      "Speed: 1.5ms preprocess, 106.2ms inference, 0.3ms postprocess per image at shape (1, 3, 640, 512)\n",
      "Processed: horlicks5_aug_3.jpg - Detected 3 objects of 1 classes\n",
      "\n",
      "image 1/1 /Users/rajin/Developer/ITNSHIP/RETAIL-ANALYSIS/Main/data/images/horlicks3_aug_4.jpg: 640x512 52 HorlicksCTSL18mls, 105.9ms\n",
      "Speed: 1.5ms preprocess, 105.9ms inference, 0.5ms postprocess per image at shape (1, 3, 640, 512)\n",
      "Processed: horlicks3_aug_4.jpg - Detected 52 objects of 1 classes\n",
      "\n",
      "image 1/1 /Users/rajin/Developer/ITNSHIP/RETAIL-ANALYSIS/Main/data/images/clear1_aug_4.jpg: 640x480 1 HorlicksCTSL18ml, 1 ClearMen5ml, 93.7ms\n",
      "Speed: 1.6ms preprocess, 93.7ms inference, 0.4ms postprocess per image at shape (1, 3, 640, 480)\n",
      "Processed: clear1_aug_4.jpg - Detected 2 objects of 2 classes\n",
      "\n",
      "image 1/1 /Users/rajin/Developer/ITNSHIP/RETAIL-ANALYSIS/Main/data/images/horlicks5_aug_1.jpg: 640x512 1 HorlicksCTSL18ml, 106.2ms\n",
      "Speed: 2.6ms preprocess, 106.2ms inference, 0.4ms postprocess per image at shape (1, 3, 640, 512)\n",
      "Processed: horlicks5_aug_1.jpg - Detected 1 objects of 1 classes\n",
      "\n",
      "image 1/1 /Users/rajin/Developer/ITNSHIP/RETAIL-ANALYSIS/Main/data/images/doveconditioner6_aug_4.jpg: 640x480 5 ClearMen5mls, 37 DoveConditionerIRPDOLCE7mls, 88.2ms\n",
      "Speed: 1.5ms preprocess, 88.2ms inference, 0.6ms postprocess per image at shape (1, 3, 640, 480)\n",
      "Processed: doveconditioner6_aug_4.jpg - Detected 42 objects of 2 classes\n",
      "\n",
      "image 1/1 /Users/rajin/Developer/ITNSHIP/RETAIL-ANALYSIS/Main/data/images/clear7_aug_3.jpg: 640x480 12 ClearMen5mls, 87.1ms\n",
      "Speed: 1.9ms preprocess, 87.1ms inference, 1.0ms postprocess per image at shape (1, 3, 640, 480)\n",
      "Processed: clear7_aug_3.jpg - Detected 12 objects of 1 classes\n",
      "\n",
      "image 1/1 /Users/rajin/Developer/ITNSHIP/RETAIL-ANALYSIS/Main/data/images/clear7_aug_2.jpg: 640x480 3 HorlicksCTSL18mls, 12 ClearMen5mls, 88.6ms\n",
      "Speed: 1.4ms preprocess, 88.6ms inference, 0.4ms postprocess per image at shape (1, 3, 640, 480)\n",
      "Processed: clear7_aug_2.jpg - Detected 15 objects of 2 classes\n",
      "\n",
      "image 1/1 /Users/rajin/Developer/ITNSHIP/RETAIL-ANALYSIS/Main/data/images/horlicks5_aug_0.jpg: 640x512 1 HorlicksCTSL18ml, 112.3ms\n",
      "Speed: 1.4ms preprocess, 112.3ms inference, 0.4ms postprocess per image at shape (1, 3, 640, 512)\n",
      "Processed: horlicks5_aug_0.jpg - Detected 1 objects of 1 classes\n",
      "\n",
      "image 1/1 /Users/rajin/Developer/ITNSHIP/RETAIL-ANALYSIS/Main/data/images/clear10_aug_3.jpg: 320x640 67 ClearMen5mls, 7 DoveConditionerIRPDOLCE7mls, 62.5ms\n",
      "Speed: 1.0ms preprocess, 62.5ms inference, 0.4ms postprocess per image at shape (1, 3, 320, 640)\n",
      "Processed: clear10_aug_3.jpg - Detected 74 objects of 2 classes\n",
      "\n",
      "image 1/1 /Users/rajin/Developer/ITNSHIP/RETAIL-ANALYSIS/Main/data/images/clear2_aug_0.jpg: 640x448 1 ClearMen5ml, 84.0ms\n",
      "Speed: 1.6ms preprocess, 84.0ms inference, 0.3ms postprocess per image at shape (1, 3, 640, 448)\n",
      "Processed: clear2_aug_0.jpg - Detected 1 objects of 1 classes\n",
      "\n",
      "image 1/1 /Users/rajin/Developer/ITNSHIP/RETAIL-ANALYSIS/Main/data/images/doveconditioner11_aug_2.jpg: 512x640 18 DoveConditionerIRPDOLCE7mls, 105.3ms\n",
      "Speed: 1.9ms preprocess, 105.3ms inference, 0.4ms postprocess per image at shape (1, 3, 512, 640)\n",
      "Processed: doveconditioner11_aug_2.jpg - Detected 18 objects of 1 classes\n",
      "\n",
      "image 1/1 /Users/rajin/Developer/ITNSHIP/RETAIL-ANALYSIS/Main/data/images/clear9_aug_4.jpg: 544x640 8 HorlicksCTSL18mls, 50 ClearMen5mls, 113.6ms\n",
      "Speed: 1.3ms preprocess, 113.6ms inference, 0.8ms postprocess per image at shape (1, 3, 544, 640)\n",
      "Processed: clear9_aug_4.jpg - Detected 58 objects of 2 classes\n",
      "\n",
      "image 1/1 /Users/rajin/Developer/ITNSHIP/RETAIL-ANALYSIS/Main/data/images/doveconditioner5_aug_0.jpg: 640x384 1 DoveConditionerIRPDOLCE7ml, 87.9ms\n",
      "Speed: 0.8ms preprocess, 87.9ms inference, 0.8ms postprocess per image at shape (1, 3, 640, 384)\n",
      "Processed: doveconditioner5_aug_0.jpg - Detected 1 objects of 1 classes\n",
      "\n",
      "image 1/1 /Users/rajin/Developer/ITNSHIP/RETAIL-ANALYSIS/Main/data/images/doveconditioner8_aug_3.jpg: 480x640 7 DoveConditionerIRPDOLCE7mls, 98.9ms\n",
      "Speed: 2.1ms preprocess, 98.9ms inference, 0.4ms postprocess per image at shape (1, 3, 480, 640)\n",
      "Processed: doveconditioner8_aug_3.jpg - Detected 7 objects of 1 classes\n",
      "\n",
      "image 1/1 /Users/rajin/Developer/ITNSHIP/RETAIL-ANALYSIS/Main/data/images/horlicks6_aug_4.jpg: 480x640 41 HorlicksCTSL18mls, 101.5ms\n",
      "Speed: 1.3ms preprocess, 101.5ms inference, 0.5ms postprocess per image at shape (1, 3, 480, 640)\n",
      "Processed: horlicks6_aug_4.jpg - Detected 41 objects of 1 classes\n",
      "\n",
      "image 1/1 /Users/rajin/Developer/ITNSHIP/RETAIL-ANALYSIS/Main/data/images/doveconditioner8_aug_2.jpg: 480x640 7 DoveConditionerIRPDOLCE7mls, 102.8ms\n",
      "Speed: 1.7ms preprocess, 102.8ms inference, 0.4ms postprocess per image at shape (1, 3, 480, 640)\n",
      "Processed: doveconditioner8_aug_2.jpg - Detected 7 objects of 1 classes\n",
      "\n",
      "image 1/1 /Users/rajin/Developer/ITNSHIP/RETAIL-ANALYSIS/Main/data/images/doveconditioner5_aug_1.jpg: 640x384 1 DoveConditionerIRPDOLCE7ml, 91.1ms\n",
      "Speed: 0.8ms preprocess, 91.1ms inference, 0.3ms postprocess per image at shape (1, 3, 640, 384)\n",
      "Processed: doveconditioner5_aug_1.jpg - Detected 1 objects of 1 classes\n",
      "\n",
      "image 1/1 /Users/rajin/Developer/ITNSHIP/RETAIL-ANALYSIS/Main/data/images/doveconditioner11_aug_3.jpg: 512x640 18 DoveConditionerIRPDOLCE7mls, 113.2ms\n",
      "Speed: 2.1ms preprocess, 113.2ms inference, 0.4ms postprocess per image at shape (1, 3, 512, 640)\n",
      "Processed: doveconditioner11_aug_3.jpg - Detected 18 objects of 1 classes\n",
      "\n",
      "image 1/1 /Users/rajin/Developer/ITNSHIP/RETAIL-ANALYSIS/Main/data/images/clear2_aug_1.jpg: 640x448 1 ClearMen5ml, 93.7ms\n",
      "Speed: 1.3ms preprocess, 93.7ms inference, 0.3ms postprocess per image at shape (1, 3, 640, 448)\n",
      "Processed: clear2_aug_1.jpg - Detected 1 objects of 1 classes\n",
      "\n",
      "image 1/1 /Users/rajin/Developer/ITNSHIP/RETAIL-ANALYSIS/Main/data/images/clear10_aug_2.jpg: 320x640 1 HorlicksCTSL18ml, 66 ClearMen5mls, 5 DoveConditionerIRPDOLCE7mls, 71.1ms\n",
      "Speed: 5.5ms preprocess, 71.1ms inference, 0.4ms postprocess per image at shape (1, 3, 320, 640)\n",
      "Processed: clear10_aug_2.jpg - Detected 72 objects of 3 classes\n",
      "\n",
      "image 1/1 /Users/rajin/Developer/ITNSHIP/RETAIL-ANALYSIS/Main/data/images/clear10_aug_0.jpg: 320x640 74 ClearMen5mls, 1 DoveConditionerIRPDOLCE7ml, 73.5ms\n",
      "Speed: 1.1ms preprocess, 73.5ms inference, 0.4ms postprocess per image at shape (1, 3, 320, 640)\n",
      "Processed: clear10_aug_0.jpg - Detected 75 objects of 2 classes\n",
      "\n",
      "image 1/1 /Users/rajin/Developer/ITNSHIP/RETAIL-ANALYSIS/Main/data/images/clear2_aug_3.jpg: 640x448 1 ClearMen5ml, 87.4ms\n",
      "Speed: 1.5ms preprocess, 87.4ms inference, 0.3ms postprocess per image at shape (1, 3, 640, 448)\n",
      "Processed: clear2_aug_3.jpg - Detected 1 objects of 1 classes\n",
      "\n",
      "image 1/1 /Users/rajin/Developer/ITNSHIP/RETAIL-ANALYSIS/Main/data/images/doveconditioner3_aug_4.jpg: 640x384 2 DoveConditionerIRPDOLCE7mls, 90.2ms\n",
      "Speed: 0.8ms preprocess, 90.2ms inference, 0.8ms postprocess per image at shape (1, 3, 640, 384)\n",
      "Processed: doveconditioner3_aug_4.jpg - Detected 2 objects of 1 classes\n",
      "\n",
      "image 1/1 /Users/rajin/Developer/ITNSHIP/RETAIL-ANALYSIS/Main/data/images/doveconditioner11_aug_1.jpg: 512x640 20 DoveConditionerIRPDOLCE7mls, 117.7ms\n",
      "Speed: 2.0ms preprocess, 117.7ms inference, 0.4ms postprocess per image at shape (1, 3, 512, 640)\n",
      "Processed: doveconditioner11_aug_1.jpg - Detected 20 objects of 1 classes\n",
      "\n",
      "image 1/1 /Users/rajin/Developer/ITNSHIP/RETAIL-ANALYSIS/Main/data/images/doveconditioner5_aug_3.jpg: 640x384 1 DoveConditionerIRPDOLCE7ml, 77.2ms\n",
      "Speed: 0.8ms preprocess, 77.2ms inference, 0.3ms postprocess per image at shape (1, 3, 640, 384)\n",
      "Processed: doveconditioner5_aug_3.jpg - Detected 1 objects of 1 classes\n",
      "\n",
      "image 1/1 /Users/rajin/Developer/ITNSHIP/RETAIL-ANALYSIS/Main/data/images/doveconditioner8_aug_0.jpg: 480x640 8 DoveConditionerIRPDOLCE7mls, 100.2ms\n",
      "Speed: 1.9ms preprocess, 100.2ms inference, 0.3ms postprocess per image at shape (1, 3, 480, 640)\n",
      "Processed: doveconditioner8_aug_0.jpg - Detected 8 objects of 1 classes\n",
      "\n",
      "image 1/1 /Users/rajin/Developer/ITNSHIP/RETAIL-ANALYSIS/Main/data/images/clear4_aug_4.jpg: 480x640 35 ClearMen5mls, 103.3ms\n",
      "Speed: 2.0ms preprocess, 103.3ms inference, 0.4ms postprocess per image at shape (1, 3, 480, 640)\n",
      "Processed: clear4_aug_4.jpg - Detected 35 objects of 1 classes\n",
      "\n",
      "image 1/1 /Users/rajin/Developer/ITNSHIP/RETAIL-ANALYSIS/Main/data/images/doveconditioner8_aug_1.jpg: 480x640 7 DoveConditionerIRPDOLCE7mls, 109.0ms\n",
      "Speed: 1.8ms preprocess, 109.0ms inference, 0.4ms postprocess per image at shape (1, 3, 480, 640)\n",
      "Processed: doveconditioner8_aug_1.jpg - Detected 7 objects of 1 classes\n",
      "\n",
      "image 1/1 /Users/rajin/Developer/ITNSHIP/RETAIL-ANALYSIS/Main/data/images/doveconditioner5_aug_2.jpg: 640x384 1 DoveConditionerIRPDOLCE7ml, 115.3ms\n",
      "Speed: 1.0ms preprocess, 115.3ms inference, 0.3ms postprocess per image at shape (1, 3, 640, 384)\n",
      "Processed: doveconditioner5_aug_2.jpg - Detected 1 objects of 1 classes\n",
      "\n",
      "image 1/1 /Users/rajin/Developer/ITNSHIP/RETAIL-ANALYSIS/Main/data/images/doveconditioner11_aug_0.jpg: 512x640 22 DoveConditionerIRPDOLCE7mls, 115.4ms\n",
      "Speed: 1.9ms preprocess, 115.4ms inference, 0.4ms postprocess per image at shape (1, 3, 512, 640)\n",
      "Processed: doveconditioner11_aug_0.jpg - Detected 22 objects of 1 classes\n",
      "\n",
      "image 1/1 /Users/rajin/Developer/ITNSHIP/RETAIL-ANALYSIS/Main/data/images/clear2_aug_2.jpg: 640x448 1 ClearMen5ml, 102.7ms\n",
      "Speed: 1.5ms preprocess, 102.7ms inference, 0.3ms postprocess per image at shape (1, 3, 640, 448)\n",
      "Processed: clear2_aug_2.jpg - Detected 1 objects of 1 classes\n",
      "\n",
      "image 1/1 /Users/rajin/Developer/ITNSHIP/RETAIL-ANALYSIS/Main/data/images/clear10_aug_1.jpg: 320x640 68 ClearMen5mls, 1 DoveConditionerIRPDOLCE7ml, 71.9ms\n",
      "Speed: 1.6ms preprocess, 71.9ms inference, 0.4ms postprocess per image at shape (1, 3, 320, 640)\n",
      "Processed: clear10_aug_1.jpg - Detected 69 objects of 2 classes\n",
      "\n",
      "image 1/1 /Users/rajin/Developer/ITNSHIP/RETAIL-ANALYSIS/Main/data/images/doveconditioner11_aug_4.jpg: 512x640 25 DoveConditionerIRPDOLCE7mls, 113.0ms\n",
      "Speed: 1.9ms preprocess, 113.0ms inference, 0.4ms postprocess per image at shape (1, 3, 512, 640)\n",
      "Processed: doveconditioner11_aug_4.jpg - Detected 25 objects of 1 classes\n",
      "\n",
      "image 1/1 /Users/rajin/Developer/ITNSHIP/RETAIL-ANALYSIS/Main/data/images/doveconditioner3_aug_1.jpg: 640x384 2 DoveConditionerIRPDOLCE7mls, 90.3ms\n",
      "Speed: 0.8ms preprocess, 90.3ms inference, 0.3ms postprocess per image at shape (1, 3, 640, 384)\n",
      "Processed: doveconditioner3_aug_1.jpg - Detected 2 objects of 1 classes\n",
      "\n",
      "image 1/1 /Users/rajin/Developer/ITNSHIP/RETAIL-ANALYSIS/Main/data/images/clear9_aug_2.jpg: 544x640 5 HorlicksCTSL18mls, 50 ClearMen5mls, 105.3ms\n",
      "Speed: 1.3ms preprocess, 105.3ms inference, 0.5ms postprocess per image at shape (1, 3, 544, 640)\n",
      "Processed: clear9_aug_2.jpg - Detected 55 objects of 2 classes\n",
      "\n",
      "image 1/1 /Users/rajin/Developer/ITNSHIP/RETAIL-ANALYSIS/Main/data/images/clear4_aug_1.jpg: 480x640 3 HorlicksCTSL18mls, 36 ClearMen5mls, 86.6ms\n",
      "Speed: 1.8ms preprocess, 86.6ms inference, 0.4ms postprocess per image at shape (1, 3, 480, 640)\n",
      "Processed: clear4_aug_1.jpg - Detected 39 objects of 2 classes\n",
      "\n",
      "image 1/1 /Users/rajin/Developer/ITNSHIP/RETAIL-ANALYSIS/Main/data/images/horlicks6_aug_3.jpg: 480x640 44 HorlicksCTSL18mls, 90.7ms\n",
      "Speed: 1.3ms preprocess, 90.7ms inference, 0.4ms postprocess per image at shape (1, 3, 480, 640)\n",
      "Processed: horlicks6_aug_3.jpg - Detected 44 objects of 1 classes\n",
      "\n",
      "image 1/1 /Users/rajin/Developer/ITNSHIP/RETAIL-ANALYSIS/Main/data/images/horlicks6_aug_2.jpg: 480x640 43 HorlicksCTSL18mls, 88.7ms\n",
      "Speed: 2.1ms preprocess, 88.7ms inference, 0.4ms postprocess per image at shape (1, 3, 480, 640)\n",
      "Processed: horlicks6_aug_2.jpg - Detected 43 objects of 1 classes\n",
      "\n",
      "image 1/1 /Users/rajin/Developer/ITNSHIP/RETAIL-ANALYSIS/Main/data/images/doveconditioner8_aug_4.jpg: 480x640 1 ClearMen5ml, 7 DoveConditionerIRPDOLCE7mls, 96.3ms\n",
      "Speed: 2.5ms preprocess, 96.3ms inference, 0.4ms postprocess per image at shape (1, 3, 480, 640)\n",
      "Processed: doveconditioner8_aug_4.jpg - Detected 8 objects of 2 classes\n",
      "\n",
      "image 1/1 /Users/rajin/Developer/ITNSHIP/RETAIL-ANALYSIS/Main/data/images/clear4_aug_0.jpg: 480x640 4 HorlicksCTSL18mls, 36 ClearMen5mls, 99.3ms\n",
      "Speed: 1.7ms preprocess, 99.3ms inference, 0.5ms postprocess per image at shape (1, 3, 480, 640)\n",
      "Processed: clear4_aug_0.jpg - Detected 40 objects of 2 classes\n",
      "\n",
      "image 1/1 /Users/rajin/Developer/ITNSHIP/RETAIL-ANALYSIS/Main/data/images/clear9_aug_3.jpg: 544x640 3 HorlicksCTSL18mls, 48 ClearMen5mls, 114.4ms\n",
      "Speed: 1.3ms preprocess, 114.4ms inference, 1.1ms postprocess per image at shape (1, 3, 544, 640)\n",
      "Processed: clear9_aug_3.jpg - Detected 51 objects of 2 classes\n",
      "\n",
      "image 1/1 /Users/rajin/Developer/ITNSHIP/RETAIL-ANALYSIS/Main/data/images/doveconditioner3_aug_0.jpg: 640x384 2 DoveConditionerIRPDOLCE7mls, 92.6ms\n",
      "Speed: 0.8ms preprocess, 92.6ms inference, 0.3ms postprocess per image at shape (1, 3, 640, 384)\n",
      "Processed: doveconditioner3_aug_0.jpg - Detected 2 objects of 1 classes\n",
      "\n",
      "image 1/1 /Users/rajin/Developer/ITNSHIP/RETAIL-ANALYSIS/Main/data/images/clear10_aug_4.jpg: 320x640 1 HorlicksCTSL18ml, 73 ClearMen5mls, 72.9ms\n",
      "Speed: 0.9ms preprocess, 72.9ms inference, 0.6ms postprocess per image at shape (1, 3, 320, 640)\n",
      "Processed: clear10_aug_4.jpg - Detected 74 objects of 2 classes\n",
      "\n",
      "image 1/1 /Users/rajin/Developer/ITNSHIP/RETAIL-ANALYSIS/Main/data/images/doveconditioner3_aug_2.jpg: 640x384 2 DoveConditionerIRPDOLCE7mls, 84.1ms\n",
      "Speed: 0.8ms preprocess, 84.1ms inference, 0.3ms postprocess per image at shape (1, 3, 640, 384)\n",
      "Processed: doveconditioner3_aug_2.jpg - Detected 2 objects of 1 classes\n",
      "\n",
      "image 1/1 /Users/rajin/Developer/ITNSHIP/RETAIL-ANALYSIS/Main/data/images/clear9_aug_1.jpg: 544x640 7 HorlicksCTSL18mls, 49 ClearMen5mls, 105.8ms\n",
      "Speed: 1.7ms preprocess, 105.8ms inference, 0.4ms postprocess per image at shape (1, 3, 544, 640)\n",
      "Processed: clear9_aug_1.jpg - Detected 56 objects of 2 classes\n",
      "\n",
      "image 1/1 /Users/rajin/Developer/ITNSHIP/RETAIL-ANALYSIS/Main/data/images/clear4_aug_2.jpg: 480x640 3 HorlicksCTSL18mls, 36 ClearMen5mls, 92.4ms\n",
      "Speed: 2.3ms preprocess, 92.4ms inference, 0.4ms postprocess per image at shape (1, 3, 480, 640)\n",
      "Processed: clear4_aug_2.jpg - Detected 39 objects of 2 classes\n",
      "\n",
      "image 1/1 /Users/rajin/Developer/ITNSHIP/RETAIL-ANALYSIS/Main/data/images/horlicks6_aug_0.jpg: 480x640 42 HorlicksCTSL18mls, 107.2ms\n",
      "Speed: 1.5ms preprocess, 107.2ms inference, 0.5ms postprocess per image at shape (1, 3, 480, 640)\n",
      "Processed: horlicks6_aug_0.jpg - Detected 42 objects of 1 classes\n",
      "\n",
      "image 1/1 /Users/rajin/Developer/ITNSHIP/RETAIL-ANALYSIS/Main/data/images/horlicks6_aug_1.jpg: 480x640 41 HorlicksCTSL18mls, 98.6ms\n",
      "Speed: 1.8ms preprocess, 98.6ms inference, 0.4ms postprocess per image at shape (1, 3, 480, 640)\n",
      "Processed: horlicks6_aug_1.jpg - Detected 41 objects of 1 classes\n",
      "\n",
      "image 1/1 /Users/rajin/Developer/ITNSHIP/RETAIL-ANALYSIS/Main/data/images/clear4_aug_3.jpg: 480x640 1 HorlicksCTSL18ml, 36 ClearMen5mls, 104.1ms\n",
      "Speed: 1.8ms preprocess, 104.1ms inference, 0.8ms postprocess per image at shape (1, 3, 480, 640)\n",
      "Processed: clear4_aug_3.jpg - Detected 37 objects of 2 classes\n",
      "\n",
      "image 1/1 /Users/rajin/Developer/ITNSHIP/RETAIL-ANALYSIS/Main/data/images/clear9_aug_0.jpg: 544x640 37 ClearMen5mls, 122.9ms\n",
      "Speed: 1.3ms preprocess, 122.9ms inference, 0.5ms postprocess per image at shape (1, 3, 544, 640)\n",
      "Processed: clear9_aug_0.jpg - Detected 37 objects of 1 classes\n",
      "\n",
      "image 1/1 /Users/rajin/Developer/ITNSHIP/RETAIL-ANALYSIS/Main/data/images/doveconditioner5_aug_4.jpg: 640x384 2 DoveConditionerIRPDOLCE7mls, 96.7ms\n",
      "Speed: 0.9ms preprocess, 96.7ms inference, 0.3ms postprocess per image at shape (1, 3, 640, 384)\n",
      "Processed: doveconditioner5_aug_4.jpg - Detected 2 objects of 1 classes\n",
      "\n",
      "image 1/1 /Users/rajin/Developer/ITNSHIP/RETAIL-ANALYSIS/Main/data/images/doveconditioner3_aug_3.jpg: 640x384 2 DoveConditionerIRPDOLCE7mls, 86.2ms\n",
      "Speed: 1.3ms preprocess, 86.2ms inference, 0.6ms postprocess per image at shape (1, 3, 640, 384)\n",
      "Processed: doveconditioner3_aug_3.jpg - Detected 2 objects of 1 classes\n",
      "\n",
      "image 1/1 /Users/rajin/Developer/ITNSHIP/RETAIL-ANALYSIS/Main/data/images/clear2_aug_4.jpg: 640x448 2 ClearMen5mls, 83.8ms\n",
      "Speed: 1.3ms preprocess, 83.8ms inference, 0.3ms postprocess per image at shape (1, 3, 640, 448)\n",
      "Processed: clear2_aug_4.jpg - Detected 2 objects of 1 classes\n",
      "\n",
      "image 1/1 /Users/rajin/Developer/ITNSHIP/RETAIL-ANALYSIS/Main/data/images/clear8_aug_4.jpg: 640x480 36 ClearMen5mls, 87.6ms\n",
      "Speed: 1.5ms preprocess, 87.6ms inference, 0.4ms postprocess per image at shape (1, 3, 640, 480)\n",
      "Processed: clear8_aug_4.jpg - Detected 36 objects of 1 classes\n",
      "\n",
      "image 1/1 /Users/rajin/Developer/ITNSHIP/RETAIL-ANALYSIS/Main/data/images/doveconditioner9_aug_3.jpg: 640x544 5 HorlicksCTSL18mls, 31 DoveConditionerIRPDOLCE7mls, 101.2ms\n",
      "Speed: 1.7ms preprocess, 101.2ms inference, 0.4ms postprocess per image at shape (1, 3, 640, 544)\n",
      "Processed: doveconditioner9_aug_3.jpg - Detected 36 objects of 2 classes\n",
      "\n",
      "image 1/1 /Users/rajin/Developer/ITNSHIP/RETAIL-ANALYSIS/Main/data/images/clear11_aug_3.jpg: 640x576 1 HorlicksCTSL18ml, 35 ClearMen5mls, 101.7ms\n",
      "Speed: 2.9ms preprocess, 101.7ms inference, 0.4ms postprocess per image at shape (1, 3, 640, 576)\n",
      "Processed: clear11_aug_3.jpg - Detected 36 objects of 2 classes\n",
      "\n",
      "image 1/1 /Users/rajin/Developer/ITNSHIP/RETAIL-ANALYSIS/Main/data/images/clear3_aug_0.jpg: 640x512 1 HorlicksCTSL18ml, 1 ClearMen5ml, 107.9ms\n",
      "Speed: 1.3ms preprocess, 107.9ms inference, 0.3ms postprocess per image at shape (1, 3, 640, 512)\n",
      "Processed: clear3_aug_0.jpg - Detected 2 objects of 2 classes\n",
      "\n",
      "image 1/1 /Users/rajin/Developer/ITNSHIP/RETAIL-ANALYSIS/Main/data/images/doveconditioner10_aug_2.jpg: 480x640 5 DoveConditionerIRPDOLCE7mls, 86.3ms\n",
      "Speed: 2.5ms preprocess, 86.3ms inference, 0.6ms postprocess per image at shape (1, 3, 480, 640)\n",
      "Processed: doveconditioner10_aug_2.jpg - Detected 5 objects of 1 classes\n",
      "\n",
      "image 1/1 /Users/rajin/Developer/ITNSHIP/RETAIL-ANALYSIS/Main/data/images/horlicks1_aug_2.jpg: 480x640 46 HorlicksCTSL18mls, 90.2ms\n",
      "Speed: 1.4ms preprocess, 90.2ms inference, 0.4ms postprocess per image at shape (1, 3, 480, 640)\n",
      "Processed: horlicks1_aug_2.jpg - Detected 46 objects of 1 classes\n",
      "\n",
      "image 1/1 /Users/rajin/Developer/ITNSHIP/RETAIL-ANALYSIS/Main/data/images/horlicks1_aug_3.jpg: 480x640 44 HorlicksCTSL18mls, 1 DoveConditionerIRPDOLCE7ml, 89.6ms\n",
      "Speed: 1.5ms preprocess, 89.6ms inference, 0.4ms postprocess per image at shape (1, 3, 480, 640)\n",
      "Processed: horlicks1_aug_3.jpg - Detected 45 objects of 2 classes\n",
      "\n",
      "image 1/1 /Users/rajin/Developer/ITNSHIP/RETAIL-ANALYSIS/Main/data/images/doveconditioner10_aug_3.jpg: 480x640 1 HorlicksCTSL18ml, 8 DoveConditionerIRPDOLCE7mls, 96.8ms\n",
      "Speed: 1.7ms preprocess, 96.8ms inference, 0.4ms postprocess per image at shape (1, 3, 480, 640)\n",
      "Processed: doveconditioner10_aug_3.jpg - Detected 9 objects of 2 classes\n",
      "\n",
      "image 1/1 /Users/rajin/Developer/ITNSHIP/RETAIL-ANALYSIS/Main/data/images/clear3_aug_1.jpg: 640x512 1 ClearMen5ml, 124.6ms\n",
      "Speed: 1.3ms preprocess, 124.6ms inference, 0.3ms postprocess per image at shape (1, 3, 640, 512)\n",
      "Processed: clear3_aug_1.jpg - Detected 1 objects of 1 classes\n",
      "\n",
      "image 1/1 /Users/rajin/Developer/ITNSHIP/RETAIL-ANALYSIS/Main/data/images/clear11_aug_2.jpg: 640x576 1 HorlicksCTSL18ml, 37 ClearMen5mls, 128.2ms\n",
      "Speed: 2.3ms preprocess, 128.2ms inference, 2.3ms postprocess per image at shape (1, 3, 640, 576)\n",
      "Processed: clear11_aug_2.jpg - Detected 38 objects of 2 classes\n",
      "\n",
      "image 1/1 /Users/rajin/Developer/ITNSHIP/RETAIL-ANALYSIS/Main/data/images/doveconditioner9_aug_2.jpg: 640x544 10 HorlicksCTSL18mls, 36 DoveConditionerIRPDOLCE7mls, 114.8ms\n",
      "Speed: 1.5ms preprocess, 114.8ms inference, 0.4ms postprocess per image at shape (1, 3, 640, 544)\n",
      "Processed: doveconditioner9_aug_2.jpg - Detected 46 objects of 2 classes\n",
      "\n",
      "image 1/1 /Users/rajin/Developer/ITNSHIP/RETAIL-ANALYSIS/Main/data/images/clear5_aug_4.jpg: 480x640 60 ClearMen5mls, 97.6ms\n",
      "Speed: 1.8ms preprocess, 97.6ms inference, 0.5ms postprocess per image at shape (1, 3, 480, 640)\n",
      "Processed: clear5_aug_4.jpg - Detected 60 objects of 1 classes\n",
      "\n",
      "image 1/1 /Users/rajin/Developer/ITNSHIP/RETAIL-ANALYSIS/Main/data/images/doveconditioner9_aug_0.jpg: 640x544 1 HorlicksCTSL18ml, 36 DoveConditionerIRPDOLCE7mls, 124.6ms\n",
      "Speed: 1.7ms preprocess, 124.6ms inference, 0.4ms postprocess per image at shape (1, 3, 640, 544)\n",
      "Processed: doveconditioner9_aug_0.jpg - Detected 37 objects of 2 classes\n",
      "\n",
      "image 1/1 /Users/rajin/Developer/ITNSHIP/RETAIL-ANALYSIS/Main/data/images/clear11_aug_0.jpg: 640x576 1 HorlicksCTSL18ml, 38 ClearMen5mls, 117.1ms\n",
      "Speed: 1.9ms preprocess, 117.1ms inference, 0.8ms postprocess per image at shape (1, 3, 640, 576)\n",
      "Processed: clear11_aug_0.jpg - Detected 39 objects of 2 classes\n",
      "\n",
      "image 1/1 /Users/rajin/Developer/ITNSHIP/RETAIL-ANALYSIS/Main/data/images/clear3_aug_3.jpg: 640x512 3 ClearMen5mls, 1 DoveConditionerIRPDOLCE7ml, 118.0ms\n",
      "Speed: 1.4ms preprocess, 118.0ms inference, 0.3ms postprocess per image at shape (1, 3, 640, 512)\n",
      "Processed: clear3_aug_3.jpg - Detected 4 objects of 2 classes\n",
      "\n",
      "image 1/1 /Users/rajin/Developer/ITNSHIP/RETAIL-ANALYSIS/Main/data/images/doveconditioner10_aug_1.jpg: 480x640 4 HorlicksCTSL18mls, 11 DoveConditionerIRPDOLCE7mls, 101.5ms\n",
      "Speed: 1.7ms preprocess, 101.5ms inference, 0.4ms postprocess per image at shape (1, 3, 480, 640)\n",
      "Processed: doveconditioner10_aug_1.jpg - Detected 15 objects of 2 classes\n",
      "\n",
      "image 1/1 /Users/rajin/Developer/ITNSHIP/RETAIL-ANALYSIS/Main/data/images/doveconditioner2_aug_4.jpg: 640x352 1 DoveConditionerIRPDOLCE7ml, 71.5ms\n",
      "Speed: 0.8ms preprocess, 71.5ms inference, 0.3ms postprocess per image at shape (1, 3, 640, 352)\n",
      "Processed: doveconditioner2_aug_4.jpg - Detected 1 objects of 1 classes\n",
      "\n",
      "image 1/1 /Users/rajin/Developer/ITNSHIP/RETAIL-ANALYSIS/Main/data/images/horlicks1_aug_1.jpg: 480x640 46 HorlicksCTSL18mls, 102.2ms\n",
      "Speed: 1.4ms preprocess, 102.2ms inference, 0.4ms postprocess per image at shape (1, 3, 480, 640)\n",
      "Processed: horlicks1_aug_1.jpg - Detected 46 objects of 1 classes\n",
      "\n",
      "image 1/1 /Users/rajin/Developer/ITNSHIP/RETAIL-ANALYSIS/Main/data/images/horlicks1_aug_0.jpg: 480x640 48 HorlicksCTSL18mls, 166.9ms\n",
      "Speed: 2.1ms preprocess, 166.9ms inference, 0.5ms postprocess per image at shape (1, 3, 480, 640)\n",
      "Processed: horlicks1_aug_0.jpg - Detected 48 objects of 1 classes\n",
      "\n",
      "image 1/1 /Users/rajin/Developer/ITNSHIP/RETAIL-ANALYSIS/Main/data/images/doveconditioner10_aug_0.jpg: 480x640 1 HorlicksCTSL18ml, 1 DoveConditionerIRPDOLCE7ml, 113.5ms\n",
      "Speed: 1.9ms preprocess, 113.5ms inference, 0.4ms postprocess per image at shape (1, 3, 480, 640)\n",
      "Processed: doveconditioner10_aug_0.jpg - Detected 2 objects of 2 classes\n",
      "\n",
      "image 1/1 /Users/rajin/Developer/ITNSHIP/RETAIL-ANALYSIS/Main/data/images/clear3_aug_2.jpg: 640x512 2 ClearMen5mls, 122.8ms\n",
      "Speed: 1.8ms preprocess, 122.8ms inference, 0.5ms postprocess per image at shape (1, 3, 640, 512)\n",
      "Processed: clear3_aug_2.jpg - Detected 2 objects of 1 classes\n",
      "\n",
      "image 1/1 /Users/rajin/Developer/ITNSHIP/RETAIL-ANALYSIS/Main/data/images/clear11_aug_1.jpg: 640x576 1 HorlicksCTSL18ml, 38 ClearMen5mls, 115.0ms\n",
      "Speed: 2.3ms preprocess, 115.0ms inference, 0.4ms postprocess per image at shape (1, 3, 640, 576)\n",
      "Processed: clear11_aug_1.jpg - Detected 39 objects of 2 classes\n",
      "\n",
      "image 1/1 /Users/rajin/Developer/ITNSHIP/RETAIL-ANALYSIS/Main/data/images/doveconditioner9_aug_1.jpg: 640x544 5 HorlicksCTSL18mls, 31 DoveConditionerIRPDOLCE7mls, 119.9ms\n",
      "Speed: 1.7ms preprocess, 119.9ms inference, 0.4ms postprocess per image at shape (1, 3, 640, 544)\n",
      "Processed: doveconditioner9_aug_1.jpg - Detected 36 objects of 2 classes\n",
      "\n",
      "image 1/1 /Users/rajin/Developer/ITNSHIP/RETAIL-ANALYSIS/Main/data/images/clear8_aug_2.jpg: 640x480 38 ClearMen5mls, 1 DoveConditionerIRPDOLCE7ml, 100.3ms\n",
      "Speed: 1.4ms preprocess, 100.3ms inference, 0.4ms postprocess per image at shape (1, 3, 640, 480)\n",
      "Processed: clear8_aug_2.jpg - Detected 39 objects of 2 classes\n",
      "\n",
      "image 1/1 /Users/rajin/Developer/ITNSHIP/RETAIL-ANALYSIS/Main/data/images/clear5_aug_1.jpg: 480x640 61 ClearMen5mls, 99.3ms\n",
      "Speed: 2.3ms preprocess, 99.3ms inference, 0.5ms postprocess per image at shape (1, 3, 480, 640)\n",
      "Processed: clear5_aug_1.jpg - Detected 61 objects of 1 classes\n",
      "\n",
      "image 1/1 /Users/rajin/Developer/ITNSHIP/RETAIL-ANALYSIS/Main/data/images/doveconditioner2_aug_1.jpg: 640x352 1 DoveConditionerIRPDOLCE7ml, 74.5ms\n",
      "Speed: 0.8ms preprocess, 74.5ms inference, 1.1ms postprocess per image at shape (1, 3, 640, 352)\n",
      "Processed: doveconditioner2_aug_1.jpg - Detected 1 objects of 1 classes\n",
      "\n",
      "image 1/1 /Users/rajin/Developer/ITNSHIP/RETAIL-ANALYSIS/Main/data/images/doveconditioner10_aug_4.jpg: 480x640 1 HorlicksCTSL18ml, 8 DoveConditionerIRPDOLCE7mls, 102.4ms\n",
      "Speed: 1.9ms preprocess, 102.4ms inference, 0.3ms postprocess per image at shape (1, 3, 480, 640)\n",
      "Processed: doveconditioner10_aug_4.jpg - Detected 9 objects of 2 classes\n",
      "\n",
      "image 1/1 /Users/rajin/Developer/ITNSHIP/RETAIL-ANALYSIS/Main/data/images/horlicks1_aug_4.jpg: 480x640 44 HorlicksCTSL18mls, 94.3ms\n",
      "Speed: 1.5ms preprocess, 94.3ms inference, 0.4ms postprocess per image at shape (1, 3, 480, 640)\n",
      "Processed: horlicks1_aug_4.jpg - Detected 44 objects of 1 classes\n",
      "\n",
      "image 1/1 /Users/rajin/Developer/ITNSHIP/RETAIL-ANALYSIS/Main/data/images/doveconditioner2_aug_0.jpg: 640x352 1 DoveConditionerIRPDOLCE7ml, 80.4ms\n",
      "Speed: 0.7ms preprocess, 80.4ms inference, 0.3ms postprocess per image at shape (1, 3, 640, 352)\n",
      "Processed: doveconditioner2_aug_0.jpg - Detected 1 objects of 1 classes\n",
      "\n",
      "image 1/1 /Users/rajin/Developer/ITNSHIP/RETAIL-ANALYSIS/Main/data/images/clear11_aug_4.jpg: 640x576 2 HorlicksCTSL18mls, 56 ClearMen5mls, 1 DoveConditionerIRPDOLCE7ml, 120.6ms\n",
      "Speed: 1.9ms preprocess, 120.6ms inference, 0.7ms postprocess per image at shape (1, 3, 640, 576)\n",
      "Processed: clear11_aug_4.jpg - Detected 59 objects of 3 classes\n",
      "\n",
      "image 1/1 /Users/rajin/Developer/ITNSHIP/RETAIL-ANALYSIS/Main/data/images/clear5_aug_0.jpg: 480x640 61 ClearMen5mls, 99.0ms\n",
      "Speed: 1.7ms preprocess, 99.0ms inference, 1.1ms postprocess per image at shape (1, 3, 480, 640)\n",
      "Processed: clear5_aug_0.jpg - Detected 61 objects of 1 classes\n",
      "\n",
      "image 1/1 /Users/rajin/Developer/ITNSHIP/RETAIL-ANALYSIS/Main/data/images/doveconditioner9_aug_4.jpg: 640x544 5 HorlicksCTSL18mls, 31 DoveConditionerIRPDOLCE7mls, 111.2ms\n",
      "Speed: 1.6ms preprocess, 111.2ms inference, 0.4ms postprocess per image at shape (1, 3, 640, 544)\n",
      "Processed: doveconditioner9_aug_4.jpg - Detected 36 objects of 2 classes\n",
      "\n",
      "image 1/1 /Users/rajin/Developer/ITNSHIP/RETAIL-ANALYSIS/Main/data/images/clear8_aug_3.jpg: 640x480 36 ClearMen5mls, 91.7ms\n",
      "Speed: 1.6ms preprocess, 91.7ms inference, 0.4ms postprocess per image at shape (1, 3, 640, 480)\n",
      "Processed: clear8_aug_3.jpg - Detected 36 objects of 1 classes\n",
      "\n",
      "image 1/1 /Users/rajin/Developer/ITNSHIP/RETAIL-ANALYSIS/Main/data/images/clear8_aug_1.jpg: 640x480 36 ClearMen5mls, 90.2ms\n",
      "Speed: 1.4ms preprocess, 90.2ms inference, 0.7ms postprocess per image at shape (1, 3, 640, 480)\n",
      "Processed: clear8_aug_1.jpg - Detected 36 objects of 1 classes\n",
      "\n",
      "image 1/1 /Users/rajin/Developer/ITNSHIP/RETAIL-ANALYSIS/Main/data/images/clear5_aug_2.jpg: 480x640 56 ClearMen5mls, 89.1ms\n",
      "Speed: 1.8ms preprocess, 89.1ms inference, 0.4ms postprocess per image at shape (1, 3, 480, 640)\n",
      "Processed: clear5_aug_2.jpg - Detected 56 objects of 1 classes\n",
      "\n",
      "image 1/1 /Users/rajin/Developer/ITNSHIP/RETAIL-ANALYSIS/Main/data/images/doveconditioner2_aug_2.jpg: 640x352 1 HorlicksCTSL18ml, 1 DoveConditionerIRPDOLCE7ml, 106.0ms\n",
      "Speed: 1.0ms preprocess, 106.0ms inference, 0.6ms postprocess per image at shape (1, 3, 640, 352)\n",
      "Processed: doveconditioner2_aug_2.jpg - Detected 2 objects of 2 classes\n",
      "\n",
      "image 1/1 /Users/rajin/Developer/ITNSHIP/RETAIL-ANALYSIS/Main/data/images/doveconditioner2_aug_3.jpg: 640x352 1 DoveConditionerIRPDOLCE7ml, 97.6ms\n",
      "Speed: 0.8ms preprocess, 97.6ms inference, 0.7ms postprocess per image at shape (1, 3, 640, 352)\n",
      "Processed: doveconditioner2_aug_3.jpg - Detected 1 objects of 1 classes\n",
      "\n",
      "image 1/1 /Users/rajin/Developer/ITNSHIP/RETAIL-ANALYSIS/Main/data/images/clear3_aug_4.jpg: 640x512 1 HorlicksCTSL18ml, 1 ClearMen5ml, 148.1ms\n",
      "Speed: 3.5ms preprocess, 148.1ms inference, 0.4ms postprocess per image at shape (1, 3, 640, 512)\n",
      "Processed: clear3_aug_4.jpg - Detected 2 objects of 2 classes\n",
      "\n",
      "image 1/1 /Users/rajin/Developer/ITNSHIP/RETAIL-ANALYSIS/Main/data/images/clear5_aug_3.jpg: 480x640 61 ClearMen5mls, 130.5ms\n",
      "Speed: 1.8ms preprocess, 130.5ms inference, 0.5ms postprocess per image at shape (1, 3, 480, 640)\n",
      "Processed: clear5_aug_3.jpg - Detected 61 objects of 1 classes\n",
      "\n",
      "image 1/1 /Users/rajin/Developer/ITNSHIP/RETAIL-ANALYSIS/Main/data/images/clear8_aug_0.jpg: 640x480 36 ClearMen5mls, 102.7ms\n",
      "Speed: 1.4ms preprocess, 102.7ms inference, 0.4ms postprocess per image at shape (1, 3, 640, 480)\n",
      "Processed: clear8_aug_0.jpg - Detected 36 objects of 1 classes\n",
      "All images processed. Results saved to /Users/rajin/Developer/ITNSHIP/RETAIL-ANALYSIS/Main/results_large\n"
     ]
    }
   ],
   "source": [
    "# Import necessary libraries\n",
    "from ultralytics import YOLO\n",
    "import os\n",
    "import cv2\n",
    "import numpy as np\n",
    "from glob import glob\n",
    "from pathlib import Path\n",
    "from collections import Counter\n",
    "\n",
    "# Define paths\n",
    "model_path = 'runs/detect/train5/weights/best.pt'  # Path to your custom model\n",
    "source_folder = '/Users/rajin/Developer/ITNSHIP/RETAIL-ANALYSIS/Main/dataset/test/images'  # Source folder containing images\n",
    "save_folder = '/Users/rajin/Developer/ITNSHIP/RETAIL-ANALYSIS/Main/results'  # Destination folder for results\n",
    "\n",
    "# Parameters for customization\n",
    "label_chars = 15  # Number of characters to show in the label (set to -1 for full label)\n",
    "font_size = 0.4   # Font size for labels\n",
    "line_thickness = 1  # Thickness of bounding boxes\n",
    "box_color = (0, 255, 0)  # Green color for boxes (BGR format)\n",
    "\n",
    "# Create the destination folder if it doesn't exist\n",
    "os.makedirs(save_folder, exist_ok=True)\n",
    "\n",
    "# Load your custom model\n",
    "model = YOLO(model_path)\n",
    "print(f\"Model loaded from {model_path}\")\n",
    "\n",
    "# Get all image paths\n",
    "image_paths = []\n",
    "for ext in ['.jpg', '.jpeg', '.png', '.bmp']:\n",
    "    image_paths.extend(glob(os.path.join(source_folder, f\"*{ext}\")))\n",
    "\n",
    "print(f\"Found {len(image_paths)} images in {source_folder}\")\n",
    "\n",
    "# Process each image\n",
    "for img_path in image_paths:\n",
    "    # Get the filename\n",
    "    filename = os.path.basename(img_path)\n",
    "    \n",
    "    # Run inference\n",
    "    results = model(img_path)\n",
    "    \n",
    "    # Load the original image\n",
    "    img = cv2.imread(img_path)\n",
    "    \n",
    "    # Extract boxes, confidence and class info\n",
    "    boxes = results[0].boxes.xyxy.cpu().numpy()\n",
    "    confidences = results[0].boxes.conf.cpu().numpy()\n",
    "    class_ids = results[0].boxes.cls.cpu().numpy().astype(int)\n",
    "    \n",
    "    # Get class names\n",
    "    class_names = results[0].names\n",
    "    \n",
    "    # Count occurrences of each class\n",
    "    class_counter = Counter([class_names[cls_id] for cls_id in class_ids])\n",
    "    \n",
    "    # Draw custom boxes\n",
    "    for box, conf, cls_id in zip(boxes, confidences, class_ids):\n",
    "        x1, y1, x2, y2 = box.astype(int)\n",
    "        \n",
    "        # Draw a thin rectangle\n",
    "        cv2.rectangle(img, (x1, y1), (x2, y2), box_color, line_thickness)\n",
    "        \n",
    "        # Get full class name\n",
    "        class_name = class_names[cls_id]\n",
    "        \n",
    "        # Create label with controlled length\n",
    "        if label_chars > 0:\n",
    "            display_name = class_name[:label_chars]\n",
    "            if len(class_name) > label_chars:\n",
    "                display_name += \"...\"\n",
    "        else:\n",
    "            display_name = class_name\n",
    "            \n",
    "        label = f\"{display_name}: {conf:.2f}\"\n",
    "        \n",
    "        # Get text size\n",
    "        text_size = cv2.getTextSize(label, cv2.FONT_HERSHEY_SIMPLEX, font_size, 1)[0]\n",
    "        \n",
    "        # Draw a small background rectangle for the label\n",
    "        cv2.rectangle(img, (x1, y1-text_size[1]-5), (x1+text_size[0], y1), box_color, -1)\n",
    "        \n",
    "        # Put text with small font size\n",
    "        cv2.putText(img, label, (x1, y1-5), cv2.FONT_HERSHEY_SIMPLEX, font_size, (0, 0, 0), 1)\n",
    "    \n",
    "    # Add class counts to the top of the image\n",
    "    y_pos = 30\n",
    "    cv2.putText(img, \"Detections:\", (10, y_pos), cv2.FONT_HERSHEY_SIMPLEX, 0.7, (0, 0, 255), 2)\n",
    "    y_pos += 30\n",
    "    \n",
    "    for class_name, count in class_counter.items():\n",
    "        text = f\"{class_name}: {count}\"\n",
    "        cv2.putText(img, text, (10, y_pos), cv2.FONT_HERSHEY_SIMPLEX, 0.6, (0, 0, 255), 2)\n",
    "        y_pos += 25\n",
    "    \n",
    "    # Save the result image\n",
    "    save_path = os.path.join(save_folder, filename)\n",
    "    cv2.imwrite(save_path, img)\n",
    "    \n",
    "    print(f\"Processed: {filename} - Detected {sum(class_counter.values())} objects of {len(class_counter)} classes\")\n",
    "\n",
    "print(f\"All images processed. Results saved to {save_folder}\")"
   ]
  }
 ],
 "metadata": {
  "kernelspec": {
   "display_name": "Python 3",
   "language": "python",
   "name": "python3"
  },
  "language_info": {
   "codemirror_mode": {
    "name": "ipython",
    "version": 3
   },
   "file_extension": ".py",
   "mimetype": "text/x-python",
   "name": "python",
   "nbconvert_exporter": "python",
   "pygments_lexer": "ipython3",
   "version": "3.13.1"
  }
 },
 "nbformat": 4,
 "nbformat_minor": 2
}
