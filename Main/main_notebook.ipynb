{
 "cells": [
  {
   "cell_type": "code",
   "execution_count": 1,
   "metadata": {},
   "outputs": [
    {
     "name": "stdout",
     "output_type": "stream",
     "text": [
      "Cloning into 'labelImg'...\n",
      "remote: Enumerating objects: 2097, done.\u001b[K\n",
      "remote: Counting objects: 100% (4/4), done.\u001b[K\n",
      "remote: Compressing objects: 100% (4/4), done.\u001b[K\n",
      "remote: Total 2097 (delta 0), reused 0 (delta 0), pack-reused 2093 (from 2)\u001b[K\n",
      "Receiving objects: 100% (2097/2097), 237.14 MiB | 4.56 MiB/s, done.\n",
      "Resolving deltas: 100% (1245/1245), done.\n"
     ]
    }
   ],
   "source": [
    "!git clone https://github.com/HumanSignal/labelImg"
   ]
  },
  {
   "cell_type": "markdown",
   "metadata": {},
   "source": [
    "## Augmentation done for separate sachets.\n",
    "### (Used albumenation library)"
   ]
  },
  {
   "cell_type": "markdown",
   "metadata": {},
   "source": [
    "### Augmentation for HORLICKS AHFD STD CTSL 18ML:"
   ]
  },
  {
   "cell_type": "code",
   "execution_count": 2,
   "metadata": {},
   "outputs": [
    {
     "name": "stderr",
     "output_type": "stream",
     "text": [
      "/Library/Frameworks/Python.framework/Versions/3.13/lib/python3.13/site-packages/albumentations/core/validation.py:87: UserWarning: ShiftScaleRotate is a special case of Affine transform. Please use Affine transform instead.\n",
      "  original_init(self, **validated_kwargs)\n"
     ]
    },
    {
     "name": "stdout",
     "output_type": "stream",
     "text": [
      "Saved 5 augmented images for horlicks2\n",
      "Saved 5 augmented images for horlicks3\n",
      "Saved 5 augmented images for horlicks1\n",
      "Saved 5 augmented images for horlicks4\n",
      "Saved 5 augmented images for horlicks5\n",
      "Saved 5 augmented images for horlicks6\n",
      "Augmentation complete for all images.\n"
     ]
    }
   ],
   "source": [
    "import os\n",
    "import cv2\n",
    "import glob\n",
    "import albumentations as A\n",
    "from albumentations.pytorch import ToTensorV2\n",
    "\n",
    "# Define input and output directories\n",
    "input_folder = \"/Users/rajin/Desktop/trainimages/horlicks\"  # Folder with original images\n",
    "output_folder = \"augmented_horlicks\"  # Folder to save augmented images\n",
    "os.makedirs(output_folder, exist_ok=True)\n",
    "\n",
    "# Define augmentations\n",
    "transform = A.Compose([\n",
    "    A.HorizontalFlip(p=0.5),  # 50% chance of flipping\n",
    "    A.RandomBrightnessContrast(p=0.2),  # Random brightness/contrast adjustment\n",
    "    A.GaussianBlur(p=0.1),  # Apply slight blur\n",
    "    A.ShiftScaleRotate(shift_limit=0.05, scale_limit=0.05, rotate_limit=15, p=0.5),  # Random transformations\n",
    "    A.CLAHE(p=0.2)  # Apply Contrast Limited Adaptive Histogram Equalization\n",
    "])\n",
    "\n",
    "num_variations = 5  # Number of augmented images per original image\n",
    "\n",
    "# Process all images in the folder\n",
    "image_paths = glob.glob(os.path.join(input_folder, \"*.jpg\"))  # Modify for other formats\n",
    "\n",
    "for img_path in image_paths:\n",
    "    # Read image\n",
    "    image = cv2.imread(img_path)\n",
    "    if image is None:\n",
    "        print(f\"Error loading {img_path}\")\n",
    "        continue\n",
    "\n",
    "    filename = os.path.basename(img_path).split('.')[0]  # Get filename without extension\n",
    "\n",
    "    for i in range(num_variations):  # Generate multiple variations\n",
    "        augmented = transform(image=image)[\"image\"]\n",
    "\n",
    "        # Save augmented image with index\n",
    "        save_path = os.path.join(output_folder, f\"{filename}_aug_{i}.jpg\")\n",
    "        cv2.imwrite(save_path, augmented)\n",
    "\n",
    "    print(f\"Saved {num_variations} augmented images for {filename}\")\n",
    "\n",
    "print(\"Augmentation complete for all images.\")\n"
   ]
  },
  {
   "cell_type": "markdown",
   "metadata": {},
   "source": [
    "### Augmentation for CLEAR MEN SHAMP CSM 5ML:"
   ]
  },
  {
   "cell_type": "code",
   "execution_count": 3,
   "metadata": {},
   "outputs": [
    {
     "name": "stdout",
     "output_type": "stream",
     "text": [
      "Saved 5 augmented images for clear1\n",
      "Saved 5 augmented images for clear3\n",
      "Saved 5 augmented images for clear14\n",
      "Saved 5 augmented images for clear15\n",
      "Saved 5 augmented images for clear2\n",
      "Saved 5 augmented images for clear6\n",
      "Saved 5 augmented images for clear11\n",
      "Saved 5 augmented images for clear10\n",
      "Saved 5 augmented images for clear7\n",
      "Saved 5 augmented images for clear5\n",
      "Saved 5 augmented images for clear12\n",
      "Saved 5 augmented images for clear13\n",
      "Saved 5 augmented images for clear4\n",
      "Saved 5 augmented images for clear9\n",
      "Saved 5 augmented images for clear8\n",
      "Augmentation complete for all images.\n"
     ]
    }
   ],
   "source": [
    "import os\n",
    "import cv2\n",
    "import glob\n",
    "import albumentations as A\n",
    "from albumentations.pytorch import ToTensorV2\n",
    "\n",
    "# Define input and output directories\n",
    "input_folder = \"/Users/rajin/Desktop/trainimages/clear\"  # Folder with original images\n",
    "output_folder = \"augmented_clear\"  # Folder to save augmented images\n",
    "os.makedirs(output_folder, exist_ok=True)\n",
    "\n",
    "# Define augmentations\n",
    "transform = A.Compose([\n",
    "    A.HorizontalFlip(p=0.5),  # 50% chance of flipping\n",
    "    A.RandomBrightnessContrast(p=0.2),  # Random brightness/contrast adjustment\n",
    "    A.GaussianBlur(p=0.1),  # Apply slight blur\n",
    "    A.ShiftScaleRotate(shift_limit=0.05, scale_limit=0.05, rotate_limit=15, p=0.5),  # Random transformations\n",
    "    A.CLAHE(p=0.2)  # Apply Contrast Limited Adaptive Histogram Equalization\n",
    "])\n",
    "\n",
    "num_variations = 5  # Number of augmented images per original image\n",
    "\n",
    "# Process all images in the folder\n",
    "image_paths = glob.glob(os.path.join(input_folder, \"*.jpg\"))  # Modify for other formats\n",
    "\n",
    "for img_path in image_paths:\n",
    "    # Read image\n",
    "    image = cv2.imread(img_path)\n",
    "    if image is None:\n",
    "        print(f\"Error loading {img_path}\")\n",
    "        continue\n",
    "\n",
    "    filename = os.path.basename(img_path).split('.')[0]  # Get filename without extension\n",
    "\n",
    "    for i in range(num_variations):  # Generate multiple variations\n",
    "        augmented = transform(image=image)[\"image\"]\n",
    "\n",
    "        # Save augmented image with index\n",
    "        save_path = os.path.join(output_folder, f\"{filename}_aug_{i}.jpg\")\n",
    "        cv2.imwrite(save_path, augmented)\n",
    "\n",
    "    print(f\"Saved {num_variations} augmented images for {filename}\")\n",
    "\n",
    "print(\"Augmentation complete for all images.\")\n"
   ]
  },
  {
   "cell_type": "markdown",
   "metadata": {},
   "source": [
    "### Augmentation for DOVE CNDTIONR IRP DOLCE 7ML:"
   ]
  },
  {
   "cell_type": "code",
   "execution_count": 5,
   "metadata": {},
   "outputs": [
    {
     "name": "stdout",
     "output_type": "stream",
     "text": [
      "Saved 5 augmented images for doveconditioner8\n",
      "Saved 5 augmented images for doveconditioner9\n",
      "Saved 5 augmented images for doveconditioner12\n",
      "Saved 5 augmented images for doveconditioner11\n",
      "Saved 5 augmented images for doveconditioner10\n",
      "Saved 5 augmented images for doveconditioner2\n",
      "Saved 5 augmented images for doveconditioner3\n",
      "Saved 5 augmented images for doveconditioner1\n",
      "Saved 5 augmented images for doveconditioner4\n",
      "Saved 5 augmented images for doveconditioner5\n",
      "Saved 5 augmented images for doveconditioner7\n",
      "Saved 5 augmented images for doveconditioner6\n",
      "Augmentation complete for all images.\n"
     ]
    }
   ],
   "source": [
    "import os\n",
    "import cv2\n",
    "import glob\n",
    "import albumentations as A\n",
    "from albumentations.pytorch import ToTensorV2\n",
    "\n",
    "# Define input and output directories\n",
    "input_folder = \"/Users/rajin/Desktop/trainimages/doveconditioner\"  # Folder with original images\n",
    "output_folder = \"augmented_doveconditioner\"  # Folder to save augmented images\n",
    "os.makedirs(output_folder, exist_ok=True)\n",
    "\n",
    "# Define augmentations\n",
    "transform = A.Compose([\n",
    "    A.HorizontalFlip(p=0.5),  # 50% chance of flipping\n",
    "    A.RandomBrightnessContrast(p=0.2),  # Random brightness/contrast adjustment\n",
    "    A.GaussianBlur(p=0.1),  # Apply slight blur\n",
    "    A.ShiftScaleRotate(shift_limit=0.05, scale_limit=0.05, rotate_limit=15, p=0.5),  # Random transformations\n",
    "    A.CLAHE(p=0.2)  # Apply Contrast Limited Adaptive Histogram Equalization\n",
    "])\n",
    "\n",
    "num_variations = 5  # Number of augmented images per original image\n",
    "\n",
    "# Process all images in the folder\n",
    "image_paths = glob.glob(os.path.join(input_folder, \"*.jpg\"))  # Modify for other formats\n",
    "\n",
    "for img_path in image_paths:\n",
    "    # Read image\n",
    "    image = cv2.imread(img_path)\n",
    "    if image is None:\n",
    "        print(f\"Error loading {img_path}\")\n",
    "        continue\n",
    "\n",
    "    filename = os.path.basename(img_path).split('.')[0]  # Get filename without extension\n",
    "\n",
    "    for i in range(num_variations):  # Generate multiple variations\n",
    "        augmented = transform(image=image)[\"image\"]\n",
    "\n",
    "        # Save augmented image with index\n",
    "        save_path = os.path.join(output_folder, f\"{filename}_aug_{i}.jpg\")\n",
    "        cv2.imwrite(save_path, augmented)\n",
    "\n",
    "    print(f\"Saved {num_variations} augmented images for {filename}\")\n",
    "\n",
    "print(\"Augmentation complete for all images.\")\n"
   ]
  }
 ],
 "metadata": {
  "kernelspec": {
   "display_name": "Python 3",
   "language": "python",
   "name": "python3"
  },
  "language_info": {
   "codemirror_mode": {
    "name": "ipython",
    "version": 3
   },
   "file_extension": ".py",
   "mimetype": "text/x-python",
   "name": "python",
   "nbconvert_exporter": "python",
   "pygments_lexer": "ipython3",
   "version": "3.13.1"
  }
 },
 "nbformat": 4,
 "nbformat_minor": 2
}
